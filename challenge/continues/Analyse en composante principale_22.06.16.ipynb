{
 "cells": [
  {
   "cell_type": "code",
   "execution_count": 1,
   "metadata": {
    "collapsed": true
   },
   "outputs": [],
   "source": [
    "%matplotlib inline\n",
    "import numpy as np\n",
    "import matplotlib.pyplot as plt\n",
    "import pandas as pd\n",
    "from sklearn.preprocessing import Imputer\n",
    "from sklearn.preprocessing import scale\n",
    "from sklearn.decomposition import PCA"
   ]
  },
  {
   "cell_type": "code",
   "execution_count": 20,
   "metadata": {
    "collapsed": true
   },
   "outputs": [],
   "source": [
    "train_fname = '../data/train.csv'\n",
    "test_fname = '../data/test.csv'\n",
    "df = pd.read_csv(train_fname, sep=';')\n",
    "df_test = pd.read_csv(test_fname, sep=';')\n",
    "f_con = ['APP_NB','APP_NB_PAYS','APP_NB_TYPE','NB_CLASSES','NB_ROOT_CLASSES','NB_SECTORS','NB_FIELDS','INV_NB',\n",
    "        'INV_NB_PAYS','INV_NB_TYPE','cited_n','cited_age_min','cited_age_median','cited_age_max','cited_age_mean',\n",
    "        'cited_age_std','NB_BACKWARD_NPL','NB_BACKWARD_XY','NB_BACKWARD_I','NB_BACKWARD_AUTRE','NB_BACKWARD_PL',\n",
    "        'NB_BACKWARD','pct_NB_IPC','pct_NB_IPC_LY','oecd_NB_ROOT_CLASSES','oecd_NB_BACKWARD_PL','oecd_NB_BACKWARD_NPL',\n",
    "        'IDX_ORIGIN','IDX_RADIC']\n",
    "(n_samples,n_variables) = (df.shape[0],len(f_con))\n",
    "df = df.reindex(np.random.permutation(df.index));"
   ]
  },
  {
   "cell_type": "code",
   "execution_count": 21,
   "metadata": {
    "collapsed": false
   },
   "outputs": [],
   "source": [
    "X_train = df[f_con].values\n",
    "X_test = df_test[f_con].values\n",
    "imputer = Imputer()\n",
    "X_train = imputer.fit_transform(X_train)\n",
    "X_test = imputer.fit_transform(X_test)\n",
    "X = np.concatenate((X_train,X_test), axis = 0)"
   ]
  },
  {
   "cell_type": "code",
   "execution_count": 25,
   "metadata": {
    "collapsed": false
   },
   "outputs": [],
   "source": [
    "scale(X, copy=False)\n",
    "XTX = np.dot(np.transpose(X),X)\n",
    "E = np.linalg.eigvalsh(XTX)"
   ]
  },
  {
   "cell_type": "code",
   "execution_count": 28,
   "metadata": {
    "collapsed": false
   },
   "outputs": [
    {
     "name": "stdout",
     "output_type": "stream",
     "text": [
      "[ -1.44117360e-09   5.91705551e-10   3.25306949e+01   1.51543922e+03\n",
      "   3.68352810e+03   2.75018834e+04   5.57353420e+04   7.67302145e+04\n",
      "   9.58644408e+04   1.54366987e+05   1.73218929e+05   1.75833751e+05\n",
      "   2.19541667e+05   2.66332221e+05   2.71127714e+05   2.94138300e+05\n",
      "   3.19448492e+05   3.36179502e+05   3.42849921e+05   3.85928181e+05\n",
      "   3.99355761e+05   4.09283547e+05   4.63218151e+05   4.75614322e+05\n",
      "   5.32426815e+05   6.45189002e+05   1.04116429e+06   1.41883324e+06\n",
      "   2.70011983e+06]\n"
     ]
    },
    {
     "data": {
      "image/png": "[encoded data removed]",
      "text/plain": [
       "<matplotlib.figure.Figure at 0x7f53baffd0d0>"
      ]
     },
     "metadata": {},
     "output_type": "display_data"
    }
   ],
   "source": [
    "l,r = 0,n_variables\n",
    "plt.plot(range(l,r),[E[i] for i in range(l,r)])\n",
    "print(E)"
   ]
  },
  {
   "cell_type": "markdown",
   "metadata": {},
   "source": [
    "### On voit un beau coude, on a envie de garder les quatre composantes les plus importantes... Ce serait intéressant pour faire par exemple de la régression logistique polynomiale.\n",
    "## Cette conclusion sera réutilisée ailleurs."
   ]
  },
  {
   "cell_type": "code",
   "execution_count": null,
   "metadata": {
    "collapsed": true
   },
   "outputs": [],
   "source": []
  }
 ],
 "metadata": {
  "kernelspec": {
   "display_name": "Python 2",
   "language": "python",
   "name": "python2"
  },
  "language_info": {
   "codemirror_mode": {
    "name": "ipython",
    "version": 2
   },
   "file_extension": ".py",
   "mimetype": "text/x-python",
   "name": "python",
   "nbconvert_exporter": "python",
   "pygments_lexer": "ipython2",
   "version": "2.7.11"
  }
 },
 "nbformat": 4,
 "nbformat_minor": 0
}
