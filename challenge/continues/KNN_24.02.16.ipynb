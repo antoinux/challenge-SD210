{
 "cells": [
  {
   "cell_type": "code",
   "execution_count": 1,
   "metadata": {
    "collapsed": true
   },
   "outputs": [],
   "source": [
    "%matplotlib inline\n",
    "import numpy as np\n",
    "import matplotlib.pyplot as plt\n",
    "import pandas as pd\n",
    "from sklearn.preprocessing import Imputer\n",
    "from sklearn.preprocessing import scale\n",
    "from sklearn.metrics import roc_auc_score\n",
    "from sklearn.grid_search import GridSearchCV\n",
    "from sklearn.neighbors import KNeighborsClassifier\n",
    "from sklearn.decomposition import PCA\n",
    "from sklearn.ensemble import RandomForestClassifier\n",
    "import time\n",
    "import sys\n",
    "reload(sys)\n",
    "sys.setdefaultencoding(\"utf-8\")"
   ]
  },
  {
   "cell_type": "code",
   "execution_count": 2,
   "metadata": {
    "collapsed": false
   },
   "outputs": [],
   "source": [
    "train_fname = '../data/train_con_1.csv'\n",
    "test_fname = '../data/test_con_1.csv'\n",
    "y_fname = '../data/y_train_1.csv'\n",
    "df_y = pd.read_csv(y_fname, sep=';')\n",
    "df = pd.read_csv(train_fname, sep=';')\n",
    "df_test = pd.read_csv(test_fname, sep=';')\n",
    "f_con = ['APP_NB','APP_NB_PAYS','APP_NB_TYPE','NB_CLASSES','NB_ROOT_CLASSES','NB_SECTORS','NB_FIELDS','INV_NB',\n",
    "        'INV_NB_PAYS','INV_NB_TYPE','cited_n','cited_nmiss','cited_age_min','cited_age_median','cited_age_max','cited_age_mean',\n",
    "        'cited_age_std','NB_BACKWARD_NPL','NB_BACKWARD_XY','NB_BACKWARD_I','NB_BACKWARD_AUTRE','NB_BACKWARD_PL',\n",
    "        'NB_BACKWARD','pct_NB_IPC','pct_NB_IPC_LY','oecd_NB_ROOT_CLASSES','oecd_NB_BACKWARD_PL','oecd_NB_BACKWARD_NPL',\n",
    "        'IDX_ORIGIN','IDX_RADIC','PRIORITY_MONTH','FILING_MONTH','PUBLICATION_MONTH','BEGIN_MONTH']\n",
    "(n_samples,n_variables) = (df.shape[0],len(f_con))\n",
    "\n",
    "X_train = df[f_con].values\n",
    "y_train = df_y['VARIABLE_CIBLE'].values == 'GRANTED'\n",
    "X_test = df_test[f_con].values\n",
    "print(len(f_con))"
   ]
  },
  {
   "cell_type": "code",
   "execution_count": null,
   "metadata": {
    "collapsed": false
   },
   "outputs": [],
   "source": [
    "n_threads = -1\n",
    "clf = KNeighborsClassifier(n_neighbors=20, weights='uniform', algorithm='auto',\n",
    "                           leaf_size=30, p=2, metric='minkowski', metric_params=None)\n",
    "clf.fit(X_train,y_train)"
   ]
  },
  {
   "cell_type": "code",
   "execution_count": null,
   "metadata": {
    "collapsed": false
   },
   "outputs": [],
   "source": [
    "n_taken = 2000\n",
    "start = time.time()\n",
    "y_pred_train = clf.predict_proba(X_train[0:n_taken])[:, 1]\n",
    "print('{} secondes'.format(time.time() - start))\n",
    "print('Score (optimiste) sur le train : %s' % roc_auc_score(y_train[0:n_taken], y_pred_train))\n",
    "print(clf.get_params())"
   ]
  },
  {
   "cell_type": "code",
   "execution_count": null,
   "metadata": {
    "collapsed": false
   },
   "outputs": [],
   "source": [
    "n_taken = n_samples\n",
    "nb_thread = 4\n",
    "clf = KNeighborsClassifier(weights='uniform', algorithm='auto',\n",
    "                            p=2, metric='minkowski', metric_params=None)\n",
    "parameters = {'n_neighbors':[300,310,320,330,340,350,360,370,380,390,400],'leaf_size':[2,3,4]}\n",
    "def scorer(estimator, X, y):\n",
    "    return roc_auc_score(y, estimator.predict_proba(X)[:,1])\n",
    "gscv = GridSearchCV(clf, parameters, scorer, n_jobs = nb_thread)\n",
    "start = time.time()\n",
    "gscv.fit(X_train[0:n_taken],y_train[0:n_taken])\n",
    "print(time.time() - start)\n",
    "y_pred_train = gscv.predict_proba(X_train)[:, 1]\n",
    "print('Score (optimiste) sur le train : {}'.format(gscv.best_score_))\n",
    "print(gscv.best_params_)"
   ]
  },
  {
   "cell_type": "code",
   "execution_count": null,
   "metadata": {
    "collapsed": false
   },
   "outputs": [],
   "source": [
    "# 0.610172093545 400 2\n",
    "# 0.610130745681 350 3 (la soumission obtient 0.615250228154, donc clairement on overfit pas.)\n",
    "# 0.610127300706 500 3\n",
    "# 0.609805696513 300 3"
   ]
  },
  {
   "cell_type": "code",
   "execution_count": null,
   "metadata": {
    "collapsed": false
   },
   "outputs": [],
   "source": [
    "pd.DataFrame(data=y_pred_train, columns=['VARIABLE_CIBLE']).to_csv(path_or_buf='../y_trained/cont_KNN_3_24.02.26.txt', sep=';')"
   ]
  },
  {
   "cell_type": "code",
   "execution_count": null,
   "metadata": {
    "collapsed": false
   },
   "outputs": [],
   "source": [
    "from sklearn.externals import joblib\n",
    "joblib.dump(clf, '../trained_models/cont_KNN_2_24_02_16.pkl')"
   ]
  },
  {
   "cell_type": "code",
   "execution_count": null,
   "metadata": {
    "collapsed": true
   },
   "outputs": [],
   "source": [
    "y_test = gscv.predict_proba(X_test)[:, 1]"
   ]
  },
  {
   "cell_type": "code",
   "execution_count": null,
   "metadata": {
    "collapsed": true
   },
   "outputs": [],
   "source": [
    "np.savetxt('../subs/continue_KNN3.txt', y_test, fmt='%s')"
   ]
  },
  {
   "cell_type": "markdown",
   "metadata": {},
   "source": [
    "#### La première sub avec k = 5 a bien overfit (résultat de 5.55 environ). Il faudrait faire une jolie CV mais là, ça risque vraiment de prendre du temps. On peut donc essayer avec de plus grandes valeurs de k pour l'instant et voir ce qu'il se passe.\n",
    "#### La deuxième sub avec k = 20 a encore beaucoup trop overfit...\n",
    "\n",
    "### On va tenter d'autres classifieurs basés sur KNN."
   ]
  },
  {
   "cell_type": "code",
   "execution_count": 3,
   "metadata": {
    "collapsed": false
   },
   "outputs": [],
   "source": [
    "from sklearn.ensemble import RandomForestClassifier\n",
    "n_taken = n_samples\n",
    "clf = RandomForestClassifier(max_depth=8)\n",
    "start=time.time()\n",
    "clf.fit(X_train[0:n_taken], y_train[0:n_taken])\n",
    "print(time.time() - start)\n",
    "start=time.time()\n",
    "y_pred_train = clf.predict_proba(X_train)[:, 1]\n",
    "print(time.time() - start)\n",
    "print('Score (optimiste) sur le train : %s' % roc_auc_score(y_train, y_pred_train))"
   ]
  },
  {
   "cell_type": "code",
   "execution_count": 4,
   "metadata": {
    "collapsed": false
   },
   "outputs": [],
   "source": [
    "n_taken = n_taken\n",
    "nb_thread = 4\n",
    "clf = RandomForestClassifier()\n",
    "#'max_leaf_nodes':[28,30,32,34,36,38,40,42,44,46,48,50,52,54,56,58,60]\n",
    "parameters = {'oob_score':[True,False],'max_depth':[9,10,11],'min_samples_leaf':[1,2,3],'min_weight_fraction_leaf':[0,0.2],'min_samples_split':[2,3,4]}\n",
    "def scorer(estimator, X, y):\n",
    "    return roc_auc_score(y, estimator.predict_proba(X)[:,1])\n",
    "gscv = GridSearchCV(clf, parameters, scorer, n_jobs = nb_thread)\n",
    "start = time.time()\n",
    "gscv.fit(X_train[0:n_taken],y_train[0:n_taken])\n",
    "print(time.time() - start)\n",
    "print('Score réaliste sur le train : {}'.format(gscv.best_score_))\n",
    "# y_pred_valid = gscv.predict_proba(X_train[n_taken:])[:, 1]\n",
    "# print('Score sur la validation : {}'.format(roc_auc_score(y_train[n_taken:], y_pred_valid)))\n",
    "print(gscv.best_params_)"
   ]
  },
  {
   "cell_type": "code",
   "execution_count": null,
   "metadata": {
    "collapsed": true
   },
   "outputs": [],
   "source": [
    "# 0.612881909952 {'min_samples_split': 1, 'max_leaf_nodes': 26, 'max_depth': 8}\n",
    "# 0.617207656745 {'min_samples_split': 2, 'max_leaf_nodes': 58, 'min_weight_fraction_leaf': 0, 'max_depth': 9, 'min_samples_leaf': 1}\n",
    "# sub à 0.551656973888... Très gros overfit. D'où vient-il ?\n",
    "# 0.621387050444 {'oob_score': True, 'max_leaf_nodes': 58, 'min_samples_leaf': 1, 'min_weight_fraction_leaf': 0, 'min_samples_split': 2, 'max_depth': 8}\n",
    "# 0.632137935136 {'min_samples_split': 3, 'oob_score': True, 'min_weight_fraction_leaf': 0, 'max_depth': 10, 'min_samples_leaf': 2}\n",
    "# On obtient un score équivalent avec une validation.\n",
    "# Soumission à 0.635146915779, tout va bien.\n",
    "# 0.633689374595 {'min_samples_split': 4, 'oob_score': True, 'min_weight_fraction_leaf': 0, 'max_depth': 11, 'min_samples_leaf': 3}"
   ]
  },
  {
   "cell_type": "code",
   "execution_count": null,
   "metadata": {
    "collapsed": false
   },
   "outputs": [],
   "source": [
    "y_pred_train = gscv.predict_proba(X_train)[:, 1]"
   ]
  },
  {
   "cell_type": "code",
   "execution_count": null,
   "metadata": {
    "collapsed": false
   },
   "outputs": [],
   "source": [
    "plt.hist(y_pred_valid)"
   ]
  },
  {
   "cell_type": "code",
   "execution_count": null,
   "metadata": {
    "collapsed": true
   },
   "outputs": [],
   "source": [
    "pd.DataFrame(data=y_pred_train, columns=['VARIABLE_CIBLE']).to_csv(path_or_buf='../y_trained/cont_KNN_5_29.02.26.txt', sep=';')"
   ]
  },
  {
   "cell_type": "code",
   "execution_count": null,
   "metadata": {
    "collapsed": false
   },
   "outputs": [],
   "source": [
    "y_test = gscv.predict_proba(X_test)[:, 1]\n",
    "np.savetxt('../subs/continue_KNN5.txt', y_test, fmt='%s')"
   ]
  },
  {
   "cell_type": "code",
   "execution_count": null,
   "metadata": {
    "collapsed": true
   },
   "outputs": [],
   "source": []
  }
 ],
 "metadata": {
  "kernelspec": {
   "display_name": "Python 2",
   "language": "python",
   "name": "python2"
  },
  "language_info": {
   "codemirror_mode": {
    "name": "ipython",
    "version": 2
   },
   "file_extension": ".py",
   "mimetype": "text/x-python",
   "name": "python",
   "nbconvert_exporter": "python",
   "pygments_lexer": "ipython2",
   "version": "2.7.11"
  }
 },
 "nbformat": 4,
 "nbformat_minor": 0
}
