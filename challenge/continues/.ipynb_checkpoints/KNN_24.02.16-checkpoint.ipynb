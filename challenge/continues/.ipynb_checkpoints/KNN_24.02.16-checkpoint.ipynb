{
 "cells": [
  {
   "cell_type": "code",
   "execution_count": 1,
   "metadata": {
    "collapsed": true
   },
   "outputs": [],
   "source": [
    "%matplotlib inline\n",
    "import numpy as np\n",
    "import matplotlib.pyplot as plt\n",
    "import pandas as pd\n",
    "from sklearn.preprocessing import Imputer\n",
    "from sklearn.preprocessing import scale\n",
    "from sklearn.metrics import roc_auc_score\n",
    "from sklearn.grid_search import GridSearchCV\n",
    "from sklearn.neighbors import KNeighborsClassifier\n",
    "from sklearn.decomposition import PCA\n",
    "import time\n",
    "import sys\n",
    "#reload(sys)\n",
    "#sys.setdefaultencoding(\"utf-8\")"
   ]
  },
  {
   "cell_type": "code",
   "execution_count": 2,
   "metadata": {
    "collapsed": false
   },
   "outputs": [
    {
     "name": "stdout",
     "output_type": "stream",
     "text": [
      "26\n"
     ]
    }
   ],
   "source": [
    "train_fname = '../data/train_transformed_3.csv'\n",
    "test_fname = '../data/test_transformed_2.csv'\n",
    "df = pd.read_csv(train_fname, sep=';')\n",
    "df_test = pd.read_csv(test_fname, sep=';')\n",
    "f_con = ['INV_NB',\n",
    "        'INV_NB_PAYS','INV_NB_TYPE','cited_n','cited_age_min','cited_age_median','cited_age_max','cited_age_mean',\n",
    "        'cited_age_std','NB_BACKWARD_NPL','NB_BACKWARD_XY','NB_BACKWARD_I','NB_BACKWARD_AUTRE','NB_BACKWARD_PL',\n",
    "        'NB_BACKWARD','pct_NB_IPC','pct_NB_IPC_LY','oecd_NB_ROOT_CLASSES','oecd_NB_BACKWARD_PL','oecd_NB_BACKWARD_NPL',\n",
    "        'IDX_ORIGIN','IDX_RADIC','PRIORITY_MONTH','FILING_MONTH','PUBLICATION_MONTH','BEGIN_MONTH']\n",
    "(n_samples,n_variables) = (df.shape[0],len(f_con))\n",
    "\n",
    "#df = df.reindex(np.random.permutation(df.index));\n",
    "X_train1 = df[f_con].values\n",
    "y_train = df.VARIABLE_CIBLE == 'GRANTED'\n",
    "X_test1 = df_test[f_con].values\n",
    "imputer = Imputer()\n",
    "# Imputer permet de combler les trous quand des données manquent. Par défaut il prend la moyenne de la dernière donnée vue\n",
    "# et de la prochaine. Ces données ne sont donc pas normalisées.\n",
    "X_train1 = imputer.fit_transform(X_train1)\n",
    "X_test1 = imputer.fit_transform(X_test1)\n",
    "# Normalisation des features.\n",
    "scale(X_train1,copy=False);\n",
    "scale(X_test1,copy=False);\n",
    "print(len(f_con))"
   ]
  },
  {
   "cell_type": "code",
   "execution_count": 3,
   "metadata": {
    "collapsed": false
   },
   "outputs": [],
   "source": [
    "X = np.concatenate((X_train1,X_test1), axis=0)\n",
    "scale(X, copy=False);\n",
    "pca = PCA(n_components=26)\n",
    "X = pca.fit_transform(X)\n",
    "X_train = X[0:X_train1.shape[0]]\n",
    "X_test = X[X_train1.shape[0]:]"
   ]
  },
  {
   "cell_type": "code",
   "execution_count": 4,
   "metadata": {
    "collapsed": false
   },
   "outputs": [
    {
     "data": {
      "text/plain": [
       "KNeighborsClassifier(algorithm='auto', leaf_size=30, metric='minkowski',\n",
       "           metric_params=None, n_neighbors=20, p=2, weights='uniform')"
      ]
     },
     "execution_count": 4,
     "metadata": {},
     "output_type": "execute_result"
    }
   ],
   "source": [
    "n_threads = -1\n",
    "clf = KNeighborsClassifier(n_neighbors=20, weights='uniform', algorithm='auto',\n",
    "                           leaf_size=30, p=2, metric='minkowski', metric_params=None)\n",
    "clf.fit(X_train,y_train)"
   ]
  },
  {
   "cell_type": "code",
   "execution_count": 6,
   "metadata": {
    "collapsed": false
   },
   "outputs": [
    {
     "name": "stdout",
     "output_type": "stream",
     "text": [
      "4.5123000145 secondes\n",
      "Score (optimiste) sur le train : 0.675775674486\n",
      "{'n_neighbors': 20, 'algorithm': 'auto', 'metric': 'minkowski', 'metric_params': None, 'p': 2, 'weights': 'uniform', 'leaf_size': 30}\n"
     ]
    }
   ],
   "source": [
    "n_taken = 2000\n",
    "start = time.time()\n",
    "y_pred_train = clf.predict_proba(X_train[0:n_taken])[:, 1]\n",
    "print('{} secondes'.format(time.time() - start))\n",
    "print('Score (optimiste) sur le train : %s' % roc_auc_score(y_train[0:n_taken], y_pred_train))\n",
    "print(clf.get_params())"
   ]
  },
  {
   "cell_type": "code",
   "execution_count": null,
   "metadata": {
    "collapsed": false
   },
   "outputs": [],
   "source": [
    "n_taken = n_samples\n",
    "nb_thread = 4\n",
    "clf = KNeighborsClassifier(weights='uniform', algorithm='auto',\n",
    "                            p=2, metric='minkowski', metric_params=None)\n",
    "parameters = {'n_neighbors':[80,100,120],'leaf_size':[3]}\n",
    "def scorer(estimator, X, y):\n",
    "    return roc_auc_score(y, estimator.predict_proba(X)[:,1])\n",
    "gscv = GridSearchCV(clf, parameters, scorer, n_jobs = nb_thread)\n",
    "start = time.time()\n",
    "gscv.fit(X_train[0:n_taken],y_train[0:n_taken])\n",
    "print(time.time() - start)\n",
    "y_pred_train = gscv.predict_proba(X_train)[:, 1]\n",
    "print('Score (optimiste) sur le train : {}'.format(gscv.best_score_))\n",
    "print(gscv.best_params_)"
   ]
  },
  {
   "cell_type": "code",
   "execution_count": 8,
   "metadata": {
    "collapsed": false
   },
   "outputs": [
    {
     "name": "stdout",
     "output_type": "stream",
     "text": [
      "{'n_neighbors': 20, 'leaf_size': 1}\n"
     ]
    }
   ],
   "source": [
    "# 0.603123732974 70 3"
   ]
  },
  {
   "cell_type": "code",
   "execution_count": null,
   "metadata": {
    "collapsed": false
   },
   "outputs": [],
   "source": [
    "pd.DataFrame(data=y_pred_train, columns=['VARIABLE_CIBLE']).to_csv(path_or_buf='../y_trained/cont_KNN_2_24.02.26.txt', sep=';')"
   ]
  },
  {
   "cell_type": "code",
   "execution_count": null,
   "metadata": {
    "collapsed": false
   },
   "outputs": [],
   "source": [
    "from sklearn.externals import joblib\n",
    "joblib.dump(clf, '../trained_models/cont_KNN_2_24_02_16.pkl')"
   ]
  },
  {
   "cell_type": "code",
   "execution_count": null,
   "metadata": {
    "collapsed": true
   },
   "outputs": [],
   "source": [
    "y_test = clf.predict_proba(X_test)[:, 1]"
   ]
  },
  {
   "cell_type": "code",
   "execution_count": null,
   "metadata": {
    "collapsed": true
   },
   "outputs": [],
   "source": [
    "np.savetxt('../subs/continue_KNN2.txt', y_test, fmt='%s')"
   ]
  },
  {
   "cell_type": "markdown",
   "metadata": {},
   "source": [
    "#### La première sub avec k = 5 a bien overfit (résultat de 5.55 environ). Il faudrait faire une jolie CV mais là, ça risque vraiment de prendre du temps. On peut donc essayer avec de plus grandes valeurs de k pour l'instant et voir ce qu'il se passe.\n",
    "#### La deuxième sub avec k = 20 a encore beaucoup trop overfit...\n",
    "\n",
    "### On va tenter d'autres classifieurs basés sur KNN."
   ]
  },
  {
   "cell_type": "code",
   "execution_count": null,
   "metadata": {
    "collapsed": false
   },
   "outputs": [],
   "source": [
    "from sklearn.ensemble import RandomForestClassifier\n",
    "n_taken = 100000\n",
    "clf = RandomForestClassifier(max_depth=8)\n",
    "clf.fit(X_train[0:n_taken], y_train[0:n_taken])"
   ]
  },
  {
   "cell_type": "code",
   "execution_count": null,
   "metadata": {
    "collapsed": false
   },
   "outputs": [],
   "source": [
    "y_pred_train = clf.predict_proba(X_train[n_taken:])[:, 1]\n",
    "print('Score (optimiste) sur le train : %s' % roc_auc_score(y_train[n_taken:], y_pred_train))"
   ]
  },
  {
   "cell_type": "markdown",
   "metadata": {},
   "source": [
    "#### Il semble que KNN sous toute ses formes a naturellement tendance à overfit, mais la plupart des variantes offrent beaucoup de paramètres à tuner pour l'éliminer. La version random forests est plus rapide que la version de base donc ça s'annonce mieux."
   ]
  },
  {
   "cell_type": "code",
   "execution_count": null,
   "metadata": {
    "collapsed": false
   },
   "outputs": [],
   "source": [
    "n_taken = n_samples\n",
    "clf = RandomForestClassifier(max_depth=9, min_samples_split=2, max_leaf_nodes=29)\n",
    "clf.fit(X_train[0:n_taken], y_train[0:n_taken])\n",
    "\n",
    "#y_pred_train = clf.predict_proba(X_train[n_taken:])[:, 1]\n",
    "#print('Score (optimiste) sur le train : %s' % roc_auc_score(y_train[n_taken:], y_pred_train))\n",
    "y_pred_train = clf.predict_proba(X_train)[:, 1]\n",
    "print('Score (optimiste) sur le train : %s' % roc_auc_score(y_train, y_pred_train))"
   ]
  },
  {
   "cell_type": "code",
   "execution_count": null,
   "metadata": {
    "collapsed": false
   },
   "outputs": [],
   "source": [
    "plt.hist(y_pred_train)"
   ]
  },
  {
   "cell_type": "code",
   "execution_count": null,
   "metadata": {
    "collapsed": true
   },
   "outputs": [],
   "source": [
    "pd.DataFrame(data=y_pred_train, columns=['VARIABLE_CIBLE']).to_csv(path_or_buf='../y_trained/cont_KNN_3_24.02.26.txt', sep=';')"
   ]
  },
  {
   "cell_type": "code",
   "execution_count": null,
   "metadata": {
    "collapsed": true
   },
   "outputs": [],
   "source": [
    "y_test = clf.predict_proba(X_test)[:, 1]\n",
    "np.savetxt('../subs/continue_KNN3.txt', y_test, fmt='%s')"
   ]
  },
  {
   "cell_type": "code",
   "execution_count": null,
   "metadata": {
    "collapsed": true
   },
   "outputs": [],
   "source": []
  }
 ],
 "metadata": {
  "kernelspec": {
   "display_name": "Python 2",
   "language": "python",
   "name": "python2"
  },
  "language_info": {
   "codemirror_mode": {
    "name": "ipython",
    "version": 2
   },
   "file_extension": ".py",
   "mimetype": "text/x-python",
   "name": "python",
   "nbconvert_exporter": "python",
   "pygments_lexer": "ipython2",
   "version": "2.7.11"
  }
 },
 "nbformat": 4,
 "nbformat_minor": 0
}
