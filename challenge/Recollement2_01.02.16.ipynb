{
 "cells": [
  {
   "cell_type": "code",
   "execution_count": 1,
   "metadata": {
    "collapsed": true
   },
   "outputs": [],
   "source": [
    "%matplotlib inline\n",
    "import numpy as np\n",
    "import matplotlib.pyplot as plt\n",
    "import pandas as pd\n",
    "from sklearn.linear_model import LogisticRegression\n",
    "from sklearn.metrics import roc_auc_score\n",
    "from sklearn.grid_search import GridSearchCV\n",
    "from sklearn.preprocessing import PolynomialFeatures\n",
    "from sklearn.pipeline import make_pipeline\n",
    "from sklearn.pipeline import Pipeline\n",
    "from sklearn.preprocessing import scale\n",
    "from sklearn.ensemble import RandomForestClassifier\n",
    "from sklearn.metrics import roc_curve\n",
    "from sklearn.svm import SVC\n",
    "import seaborn as sns\n",
    "sns.set(style=\"white\")\n",
    "import time\n",
    "import sys\n",
    "reload(sys)\n",
    "sys.setdefaultencoding(\"utf-8\")"
   ]
  },
  {
   "cell_type": "code",
   "execution_count": 2,
   "metadata": {
    "collapsed": false
   },
   "outputs": [],
   "source": [
    "f_cat = ['VOIE_DEPOT','COUNTRY','SOURCE_BEGIN_MONTH','FISRT_APP_COUNTRY','FISRT_APP_TYPE','LANGUAGE_OF_FILLING',\n",
    "        'FIRST_CLASSE','TECHNOLOGIE_SECTOR','TECHNOLOGIE_FIELD','MAIN_IPC','FISRT_INV_COUNTRY','FISRT_INV_TYPE','SOURCE_CITED_AGE',\n",
    "        'SOURCE_IDX_ORI','SOURCE_IDX_RAD']\n",
    "\n",
    "f_con = ['APP_NB','APP_NB_PAYS','APP_NB_TYPE','NB_CLASSES','NB_ROOT_CLASSES','NB_SECTORS','NB_FIELDS','INV_NB',\n",
    "        'INV_NB_PAYS','INV_NB_TYPE','cited_n','cited_nmiss','cited_age_min','cited_age_median','cited_age_max','cited_age_mean',\n",
    "        'cited_age_std','NB_BACKWARD_NPL','NB_BACKWARD_XY','NB_BACKWARD_I','NB_BACKWARD_AUTRE','NB_BACKWARD_PL',\n",
    "        'NB_BACKWARD','pct_NB_IPC','pct_NB_IPC_LY','oecd_NB_ROOT_CLASSES','oecd_NB_BACKWARD_PL','oecd_NB_BACKWARD_NPL',\n",
    "        'IDX_ORIGIN','IDX_RADIC','PRIORITY_MONTH','FILING_MONTH','PUBLICATION_MONTH','BEGIN_MONTH']\n",
    "\n",
    "train_fname_cat = 'data/train_cat_1.csv'\n",
    "test_fname_cat = 'data/test_cat_1.csv'\n",
    "df_cat = pd.read_csv(train_fname_cat, sep=';')\n",
    "df_test_cat = pd.read_csv(test_fname_cat, sep=';')\n",
    "train_fname_con = 'data/train_con_1.csv'\n",
    "test_fname_con = 'data/test_con_1.csv'\n",
    "df_con = pd.read_csv(train_fname_con, sep=';')\n",
    "df_test_con = pd.read_csv(test_fname_con, sep=';')\n",
    "y_fname = 'data/y_train_1.csv'\n",
    "df_y = pd.read_csv(y_fname, sep=';')\n",
    "n_samples,n_variables = df_cat.shape\n",
    "\n",
    "X_train_con = df_con[f_con].values\n",
    "X_test_con = df_test_con[f_con].values\n",
    "X_train_cat = df_cat[f_cat].values\n",
    "X_test_cat = df_test_cat[f_cat].values\n",
    "y_train = df_y['VARIABLE_CIBLE'].values == 'GRANTED'"
   ]
  },
  {
   "cell_type": "code",
   "execution_count": 20,
   "metadata": {
    "collapsed": false
   },
   "outputs": [
    {
     "ename": "NameError",
     "evalue": "name 'con_classifier' is not defined",
     "output_type": "error",
     "traceback": [
      "\u001b[1;31m---------------------------------------------------------------------------\u001b[0m",
      "\u001b[1;31mNameError\u001b[0m                                 Traceback (most recent call last)",
      "\u001b[1;32m<ipython-input-20-d0a1bf84bccf>\u001b[0m in \u001b[0;36m<module>\u001b[1;34m()\u001b[0m\n\u001b[1;32m----> 1\u001b[1;33m \u001b[1;32mclass\u001b[0m \u001b[0mmyClassifier\u001b[0m\u001b[1;33m:\u001b[0m\u001b[1;33m\u001b[0m\u001b[0m\n\u001b[0m\u001b[0;32m      2\u001b[0m     \u001b[0mcon_classifier\u001b[0m\u001b[1;33m\u001b[0m\u001b[0m\n\u001b[0;32m      3\u001b[0m     \u001b[0mcat_classifier\u001b[0m\u001b[1;33m\u001b[0m\u001b[0m\n\u001b[0;32m      4\u001b[0m     \u001b[0mlast_classifier\u001b[0m\u001b[1;33m\u001b[0m\u001b[0m\n\u001b[0;32m      5\u001b[0m     \u001b[0mdegree\u001b[0m\u001b[1;33m\u001b[0m\u001b[0m\n",
      "\u001b[1;32m<ipython-input-20-d0a1bf84bccf>\u001b[0m in \u001b[0;36mmyClassifier\u001b[1;34m()\u001b[0m\n\u001b[0;32m      1\u001b[0m \u001b[1;32mclass\u001b[0m \u001b[0mmyClassifier\u001b[0m\u001b[1;33m:\u001b[0m\u001b[1;33m\u001b[0m\u001b[0m\n\u001b[1;32m----> 2\u001b[1;33m     \u001b[0mcon_classifier\u001b[0m\u001b[1;33m\u001b[0m\u001b[0m\n\u001b[0m\u001b[0;32m      3\u001b[0m     \u001b[0mcat_classifier\u001b[0m\u001b[1;33m\u001b[0m\u001b[0m\n\u001b[0;32m      4\u001b[0m     \u001b[0mlast_classifier\u001b[0m\u001b[1;33m\u001b[0m\u001b[0m\n\u001b[0;32m      5\u001b[0m     \u001b[0mdegree\u001b[0m\u001b[1;33m\u001b[0m\u001b[0m\n",
      "\u001b[1;31mNameError\u001b[0m: name 'con_classifier' is not defined"
     ]
    }
   ],
   "source": [
    "class myClassifier:\n",
    "    con_classifier\n",
    "    cat_classifier\n",
    "    last_classifier\n",
    "    degree\n",
    "    \n",
    "    def __init__(self, degree=1):\n",
    "        con_classifier = RandomForestClassifier()\n",
    "        cat_classifier = RandomForestClassifier()\n",
    "        last_classifier = LogisticRegression()\n",
    "        self.degree = degree\n",
    "        \n",
    "    def fit(self, X_con, X_cat, y):\n",
    "        self.con_classifier.fit(X_con, y)\n",
    "        self.cat_classifier.fit(X_cat, y)\n",
    "        X_poly = PolynomialFeatures(degree=self.degree, include_bias=False).fit_transform\n",
    "        \n",
    "        return self\n",
    "        \n",
    "    def score(self, X, y):\n",
    "        return roc_auc_score(y,(self.a*X[:,0] + self.b*X[:,1])/(self.a+self.b))\n",
    "    \n",
    "    def predict_proba(self, X):\n",
    "        return (self.a*X[:,0] + self.b*X[:,1])/(a+b)\n",
    "    \n",
    "    def get_params(self, deep=True):\n",
    "        return {'a':self.a,'b':self.b}\n",
    "    \n",
    "    def set_params(self, a=-1, b=-1):\n",
    "        if(a != -1):\n",
    "            self.a = a\n",
    "        if(b != -1):\n",
    "            self.b = b\n",
    "        return self"
   ]
  },
  {
   "cell_type": "code",
   "execution_count": 8,
   "metadata": {
    "collapsed": false
   },
   "outputs": [],
   "source": [
    "n_taken = 150000\n",
    "nb_thread = 4\n",
    "def scorer(estimator, X, y):\n",
    "    return roc_auc_score(y, estimator.predict_proba(X)[:,1])\n",
    "\n",
    "clf_con = RandomForestClassifier()\n",
    "parameters_con = {'n_estimators':[100],'oob_score':[True],'max_depth':[11],'min_samples_leaf':[3],'min_weight_fraction_leaf':[0],'min_samples_split':[4]}\n",
    "gscv_con = GridSearchCV(clf_con, parameters_con, scorer, n_jobs = nb_thread)\n",
    "gscv_con.fit(X_train_con[0:n_taken],y_train[0:n_taken])\n",
    "y_con = gscv_con.predict_proba(X_train_con[n_taken:])[:, 1]\n",
    "\n",
    "clf_cat = RandomForestClassifier()\n",
    "parameters_cat = {'n_estimators':[100],'max_depth':[14],'oob_score':[False],'min_samples_leaf':[5],'min_weight_fraction_leaf':[0],'min_samples_split':[2]}\n",
    "gscv_cat = GridSearchCV(clf_cat, parameters_cat, scorer, n_jobs = nb_thread)\n",
    "gscv_cat.fit(X_train_cat[0:n_taken],y_train[0:n_taken])\n",
    "y_cat = gscv_cat.predict_proba(X_train_cat[n_taken:])[:, 1]\n",
    "\n",
    "y_con.shape=(n_samples - n_taken,1)\n",
    "y_cat.shape=(n_samples - n_taken,1)\n",
    "X = np.concatenate((y_con,y_cat), axis=1)\n",
    "#deg = 1\n",
    "params = {'poly__degree':[9],'logistic__C':[50]}\n",
    "#poly = PolynomialFeatures(degree=deg, include_bias=False)\n",
    "#X_poly = poly.fit_transform(X[n_taken:])\n",
    "model = Pipeline(steps=[('poly', PolynomialFeatures(include_bias=False)), ('logistic', LogisticRegression())])\n",
    "clf = GridSearchCV(model, params, scorer, n_jobs=nb_thread)\n",
    "start = time.time()\n",
    "clf.fit(X,y_train[n_taken:])\n",
    "print(\"{} secondes\".format(time.time() - start))\n",
    "print(\"Score de CV sur le train : {}\".format(clf.best_score_))\n",
    "print(\"Score sur la \\\"validation\\\" : {}\".format(roc_auc_score(y_train[n_taken:], clf.predict_proba(X)[:,1])))\n",
    "print(clf.best_params_)"
   ]
  },
  {
   "cell_type": "code",
   "execution_count": null,
   "metadata": {
    "collapsed": true
   },
   "outputs": [],
   "source": [
    "# On peut maintenant vraiment prévoir le score des soumissions :)\n",
    "# Score de CV sur le train : 0.690473136351\n",
    "# Score sur la \"validation\" : 0.690612299292\n",
    "\n",
    "# Score de CV sur le train : 0.695841386729\n",
    "# Score sur la \"validation\" : 0.69594965132"
   ]
  },
  {
   "cell_type": "code",
   "execution_count": 9,
   "metadata": {
    "collapsed": false
   },
   "outputs": [],
   "source": [
    "n_taken = n_samples\n",
    "nb_thread = 4\n",
    "def scorer(estimator, X, y):\n",
    "    return roc_auc_score(y, estimator.predict_proba(X)[:,1])\n",
    "\n",
    "clf_con = RandomForestClassifier()\n",
    "parameters_con = {'n_estimators':[100],'oob_score':[True],'max_depth':[11],'min_samples_leaf':[3],'min_weight_fraction_leaf':[0],'min_samples_split':[4]}\n",
    "gscv_con = GridSearchCV(clf_con, parameters_con, scorer, n_jobs = nb_thread)\n",
    "gscv_con.fit(X_train_con[0:n_taken],y_train[0:n_taken])\n",
    "y_con = gscv_con.predict_proba(X_train_con)[:, 1]\n",
    "\n",
    "clf_cat = RandomForestClassifier()\n",
    "parameters_cat = {'n_estimators':[100],'max_depth':[14],'oob_score':[False],'min_samples_leaf':[5],'min_weight_fraction_leaf':[0],'min_samples_split':[2]}\n",
    "gscv_cat = GridSearchCV(clf_cat, parameters_cat, scorer, n_jobs = nb_thread)\n",
    "gscv_cat.fit(X_train_cat[0:n_taken],y_train[0:n_taken])\n",
    "y_cat = gscv_cat.predict_proba(X_train_cat)[:, 1]\n",
    "\n",
    "y_con.shape=(n_samples,1)\n",
    "y_cat.shape=(n_samples,1)\n",
    "X = np.concatenate((y_con,y_cat), axis=1)\n",
    "#deg = 1\n",
    "params = {'poly__degree':[9],'logistic__C':[50]}\n",
    "#poly = PolynomialFeatures(degree=deg, include_bias=False)\n",
    "#X_poly = poly.fit_transform(X[n_taken:])\n",
    "model = Pipeline(steps=[('poly', PolynomialFeatures(include_bias=False)), ('logistic', LogisticRegression())])\n",
    "clf = GridSearchCV(model, params, scorer, n_jobs=nb_thread)\n",
    "start = time.time()\n",
    "clf.fit(X,y_train)\n",
    "print(\"{} secondes\".format(time.time() - start))\n",
    "print(\"Score de CV sur le train : {}\".format(clf.best_score_))\n",
    "#print(\"Score sur la validation : {}\".format(roc_auc_score(y_train[n_taken:], clf.predict_proba(X_poly[n_taken:])[:,1])))\n",
    "print(clf.best_params_)"
   ]
  },
  {
   "cell_type": "code",
   "execution_count": null,
   "metadata": {
    "collapsed": true
   },
   "outputs": [],
   "source": [
    "# Score de CV sur le train : 0.745367412924"
   ]
  },
  {
   "cell_type": "code",
   "execution_count": 11,
   "metadata": {
    "collapsed": false
   },
   "outputs": [],
   "source": [
    "y_con_test = gscv_con.predict_proba(X_test_con)[:, 1]\n",
    "y_cat_test = gscv_cat.predict_proba(X_test_cat)[:, 1]\n",
    "\n",
    "n_samples_test = y_con_test.shape[0]\n",
    "y_con_test.shape = (n_samples_test,1)\n",
    "y_cat_test.shape = (n_samples_test,1)\n",
    "X_test = np.concatenate((y_con_test, y_cat_test), axis=1)\n",
    "# X_test_poly = poly.fit_transform(X_test)\n",
    "\n",
    "y_test = clf.predict_proba(X_test)[:,1]\n",
    "\n",
    "np.savetxt('subs/recollement4_06.03.16.txt', y_test)"
   ]
  },
  {
   "cell_type": "code",
   "execution_count": 12,
   "metadata": {
    "collapsed": false
   },
   "outputs": [
    {
     "data": {
      "text/plain": [
       "(array([  2563.,   3624.,   7229.,  11374.,  16520.,  20895.,  23234.,\n",
       "         22690.,  17360.,   4226.]),\n",
       " array([  2.28495945e-04,   9.97526955e-02,   1.99276895e-01,\n",
       "          2.98801095e-01,   3.98325294e-01,   4.97849494e-01,\n",
       "          5.97373693e-01,   6.96897893e-01,   7.96422093e-01,\n",
       "          8.95946292e-01,   9.95470492e-01]),\n",
       " <a list of 10 Patch objects>)"
      ]
     },
     "execution_count": 12,
     "metadata": {},
     "output_type": "execute_result"
    },
    {
     "data": {
      "image/png": "[encoded data removed]",
      "text/plain": [
       "<matplotlib.figure.Figure at 0x7fe5a2377bd0>"
      ]
     },
     "metadata": {},
     "output_type": "display_data"
    }
   ],
   "source": [
    "plt.hist(y_test)"
   ]
  },
  {
   "cell_type": "code",
   "execution_count": 14,
   "metadata": {
    "collapsed": false
   },
   "outputs": [
    {
     "data": {
      "text/plain": [
       "(array([ 107732.,       0.,       0.,       0.,       0.,       0.,\n",
       "              0.,       0.,       0.,  151699.]),\n",
       " array([ 0. ,  0.1,  0.2,  0.3,  0.4,  0.5,  0.6,  0.7,  0.8,  0.9,  1. ]),\n",
       " <a list of 10 Patch objects>)"
      ]
     },
     "execution_count": 14,
     "metadata": {},
     "output_type": "execute_result"
    },
    {
     "data": {
      "image/png": "[encoded data removed]",
      "text/plain": [
       "<matplotlib.figure.Figure at 0x7fb421f5b4d0>"
      ]
     },
     "metadata": {},
     "output_type": "display_data"
    }
   ],
   "source": [
    "plt.hist(y_train)"
   ]
  },
  {
   "cell_type": "code",
   "execution_count": null,
   "metadata": {
    "collapsed": true
   },
   "outputs": [],
   "source": []
  }
 ],
 "metadata": {
  "kernelspec": {
   "display_name": "Python 3",
   "language": "python",
   "name": "python3"
  },
  "language_info": {
   "codemirror_mode": {
    "name": "ipython",
    "version": 3
   },
   "file_extension": ".py",
   "mimetype": "text/x-python",
   "name": "python",
   "nbconvert_exporter": "python",
   "pygments_lexer": "ipython3",
   "version": "3.5.1"
  }
 },
 "nbformat": 4,
 "nbformat_minor": 0
}
