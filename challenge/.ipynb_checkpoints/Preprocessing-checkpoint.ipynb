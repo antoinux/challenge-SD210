{
 "metadata": {
  "name": ""
 },
 "nbformat": 3,
 "nbformat_minor": 0,
 "worksheets": [
  {
   "cells": [
    {
     "cell_type": "code",
     "collapsed": false,
     "input": [
      "%matplotlib inline\n",
      "import numpy as np\n",
      "import pandas as pd\n",
      "import matplotlib.pyplot as plt\n",
      "from sklearn.linear_model import LogisticRegression\n",
      "from sklearn.preprocessing import LabelEncoder\n",
      "from sklearn.preprocessing import OneHotEncoder\n",
      "#from sklearn.preprocessing import PolynomialFeatures\n",
      "from sklearn.ensemble import RandomForestClassifier\n",
      "from sklearn.metrics import roc_auc_score\n",
      "from sklearn.grid_search import GridSearchCV\n",
      "import time"
     ],
     "language": "python",
     "metadata": {},
     "outputs": [
      {
       "ename": "ImportError",
       "evalue": "cannot import name PolynomialFeatures",
       "output_type": "pyerr",
       "traceback": [
        "\u001b[0;31m---------------------------------------------------------------------------\u001b[0m\n\u001b[0;31mImportError\u001b[0m                               Traceback (most recent call last)",
        "\u001b[0;32m<ipython-input-30-cf5aa8b34ccf>\u001b[0m in \u001b[0;36m<module>\u001b[0;34m()\u001b[0m\n\u001b[1;32m      6\u001b[0m \u001b[0;32mfrom\u001b[0m \u001b[0msklearn\u001b[0m\u001b[0;34m.\u001b[0m\u001b[0mpreprocessing\u001b[0m \u001b[0;32mimport\u001b[0m \u001b[0mLabelEncoder\u001b[0m\u001b[0;34m\u001b[0m\u001b[0m\n\u001b[1;32m      7\u001b[0m \u001b[0;32mfrom\u001b[0m \u001b[0msklearn\u001b[0m\u001b[0;34m.\u001b[0m\u001b[0mpreprocessing\u001b[0m \u001b[0;32mimport\u001b[0m \u001b[0mOneHotEncoder\u001b[0m\u001b[0;34m\u001b[0m\u001b[0m\n\u001b[0;32m----> 8\u001b[0;31m \u001b[0;32mfrom\u001b[0m \u001b[0msklearn\u001b[0m\u001b[0;34m.\u001b[0m\u001b[0mpreprocessing\u001b[0m \u001b[0;32mimport\u001b[0m \u001b[0mPolynomialFeatures\u001b[0m\u001b[0;34m\u001b[0m\u001b[0m\n\u001b[0m\u001b[1;32m      9\u001b[0m \u001b[0;32mfrom\u001b[0m \u001b[0msklearn\u001b[0m\u001b[0;34m.\u001b[0m\u001b[0mensemble\u001b[0m \u001b[0;32mimport\u001b[0m \u001b[0mRandomForestClassifier\u001b[0m\u001b[0;34m\u001b[0m\u001b[0m\n\u001b[1;32m     10\u001b[0m \u001b[0;32mfrom\u001b[0m \u001b[0msklearn\u001b[0m\u001b[0;34m.\u001b[0m\u001b[0mmetrics\u001b[0m \u001b[0;32mimport\u001b[0m \u001b[0mroc_auc_score\u001b[0m\u001b[0;34m\u001b[0m\u001b[0m\n",
        "\u001b[0;31mImportError\u001b[0m: cannot import name PolynomialFeatures"
       ]
      }
     ],
     "prompt_number": 30
    },
    {
     "cell_type": "code",
     "collapsed": false,
     "input": [
      "fname = 'data/train.csv'\n",
      "df = pd.read_csv(fname, sep=';')\n",
      "y_train = df['VARIABLE_CIBLE'].values == 'GRANTED'\n",
      "n_samples = df.shape[0]\n",
      "\n",
      "f_cat = ['VOIE_DEPOT','COUNTRY','SOURCE_BEGIN_MONTH','FISRT_APP_COUNTRY','FISRT_APP_TYPE','LANGUAGE_OF_FILLING',\n",
      "         'TECHNOLOGIE_SECTOR','TECHNOLOGIE_FIELD','FISRT_INV_COUNTRY','FISRT_INV_TYPE','FIRST_CLASSE',\n",
      "         'SOURCE_CITED_AGE','SOURCE_IDX_ORI','MAIN_IPC','SOURCE_IDX_RAD']\n",
      "\n",
      "\n",
      "f_cat_2 = ['VOIE_DEPOT','COUNTRY','SOURCE_BEGIN_MONTH','FISRT_APP_COUNTRY','FISRT_APP_TYPE','LANGUAGE_OF_FILLING',\n",
      "         'TECHNOLOGIE_SECTOR','TECHNOLOGIE_FIELD','FISRT_INV_COUNTRY','FISRT_INV_TYPE',\n",
      "         'SOURCE_CITED_AGE','SOURCE_IDX_ORI','SOURCE_IDX_RAD']\n",
      "\n",
      "X_train = df[f_cat].values"
     ],
     "language": "python",
     "metadata": {},
     "outputs": [],
     "prompt_number": 22
    },
    {
     "cell_type": "code",
     "collapsed": false,
     "input": [
      "class MultiColumnLabelEncoder:\n",
      "    def __init__(self,columns = None):\n",
      "        self.columns = columns # array of column names to encode\n",
      "\n",
      "    def fit(self,X,y=None):\n",
      "        return self # not relevant here\n",
      "\n",
      "    def transform(self,X):\n",
      "        '''\n",
      "        Transforms columns of X specified in self.columns using\n",
      "        LabelEncoder(). If no columns specified, transforms all\n",
      "        columns in X.\n",
      "        '''\n",
      "        output = X.copy()\n",
      "        if self.columns is not None:\n",
      "            for col in self.columns:\n",
      "                output[col] = LabelEncoder().fit_transform(output[col])\n",
      "        else:\n",
      "            for colname,col in output.iteritems():\n",
      "                output[colname] = LabelEncoder().fit_transform(col)\n",
      "        return output\n",
      "\n",
      "    def fit_transform(self,X,y=None):\n",
      "        return self.fit(X,y).transform(X)"
     ],
     "language": "python",
     "metadata": {},
     "outputs": [],
     "prompt_number": 23
    },
    {
     "cell_type": "code",
     "collapsed": false,
     "input": [
      "encoder = MultiColumnLabelEncoder()\n",
      "X_train = encoder.fit_transform(df[f_cat]).values"
     ],
     "language": "python",
     "metadata": {},
     "outputs": [],
     "prompt_number": 24
    },
    {
     "cell_type": "code",
     "collapsed": false,
     "input": [
      "ohencoder = OneHotEncoder()\n",
      "X_train_ohe = ohencoder.fit_transform(X_train)\n",
      "print(X_train_ohe.shape)"
     ],
     "language": "python",
     "metadata": {},
     "outputs": [
      {
       "output_type": "stream",
       "stream": "stdout",
       "text": [
        "(259431, 37531)\n"
       ]
      }
     ],
     "prompt_number": 25
    },
    {
     "cell_type": "code",
     "collapsed": false,
     "input": [
      "def scorer(estimator, X, y):\n",
      "    return roc_auc_score(y, estimator.predict_proba(X)[:,1])\n",
      "n_taken = n_samples\n",
      "params = {'C':[0.06,0.07,0.08,0.09]}\n",
      "clf = GridSearchCV(LogisticRegression(), params, scorer, n_jobs=2)\n",
      "start = time.time()\n",
      "clf.fit(X_train_ohe[0:n_taken], y_train[0:n_taken])\n",
      "print(\"{} secondes pour fit !\".format(time.time() - start))\n",
      "print(\"Score honorable sur la CV : {}\".format(clf.best_score_))\n",
      "print(\"Meilleurs pamam\u00e8tres : {}\".format(clf.best_params_))"
     ],
     "language": "python",
     "metadata": {},
     "outputs": [
      {
       "output_type": "stream",
       "stream": "stdout",
       "text": [
        "60.5215961933 secondes pour fit !\n",
        "Score honorable sur la CV : 0.66462084719\n",
        "Meilleurs pamam\u00e8tres : {'C': 0.09}\n"
       ]
      }
     ],
     "prompt_number": 38
    },
    {
     "cell_type": "code",
     "collapsed": false,
     "input": [
      "# Scores en CV :\n",
      "\n",
      "# 0.664134579368 C = 0.05\n",
      "# 0.66462084719  C = 0.09 (optimal pour C dans [0.05,0.1])\n",
      "# 0.66460659173  C = 0.1\n",
      "\n",
      "# Scores en valdation 200000 vs 70000 :\n",
      "\n",
      "# 0.66472536705  C = 0.2\n",
      "# 0.661128552158 C = 0.4\n",
      "# 0.659424575285 C = 0.5\n",
      "# 0.652758867988 C = 1\n",
      "# 0.644915390479 C = 2"
     ],
     "language": "python",
     "metadata": {},
     "outputs": []
    },
    {
     "cell_type": "code",
     "collapsed": false,
     "input": [
      "n_taken = 200000\n",
      "clf = RandomForestClassifier(n_estimators = 20)\n",
      "start = time.time()\n",
      "#clf.fit(X_train_ohe[0:n_taken].toarray(), y_train[0:n_taken])\n",
      "print(\"{} secondes pour fit !\".format(time.time() - start))\n",
      "print(\"Score mis\u00e9rable sur la validation : {}\".format(roc_auc_score(y_train[n_taken:], clf.predict_proba(\n",
      "                                                            X_train_ohe[n_taken:].toarray())[:,1])))"
     ],
     "language": "python",
     "metadata": {},
     "outputs": [
      {
       "output_type": "stream",
       "stream": "stdout",
       "text": [
        "103.801468849 secondes pour fit !\n",
        "Score mis\u00e9rable sur la validation : 0.640804771316"
       ]
      },
      {
       "output_type": "stream",
       "stream": "stdout",
       "text": [
        "\n"
       ]
      }
     ],
     "prompt_number": 16
    },
    {
     "cell_type": "code",
     "collapsed": false,
     "input": [
      "n_taken = 200000\n",
      "clf = RandomForestClassifier()\n",
      "start = time.time()\n",
      "clf.fit(X_train[0:n_taken], y_train[0:n_taken])\n",
      "print(\"{} secondes pour fit !\".format(time.time() - start))\n",
      "print(\"Score mis\u00e9rable sur la validation : {}\".format(roc_auc_score(y_train[n_taken:], clf.predict_proba(\n",
      "                                                            X_train[n_taken:])[:,1])))"
     ],
     "language": "python",
     "metadata": {},
     "outputs": [
      {
       "output_type": "stream",
       "stream": "stdout",
       "text": [
        "7.66295385361 secondes pour fit !\n",
        "Score mis\u00e9rable sur la validation : 0.637076172772"
       ]
      },
      {
       "output_type": "stream",
       "stream": "stdout",
       "text": [
        "\n"
       ]
      }
     ],
     "prompt_number": 54
    },
    {
     "cell_type": "markdown",
     "metadata": {},
     "source": [
      "#### R\u00e9sultat assez clair : On gagne en pouvoir pr\u00e9dictif avec le OneHotEncoding, mais on le paie tr\u00e8s cher en temps de calcul. ca tombe bien, on a du temps."
     ]
    },
    {
     "cell_type": "code",
     "collapsed": false,
     "input": [],
     "language": "python",
     "metadata": {},
     "outputs": []
    }
   ],
   "metadata": {}
  }
 ]
}