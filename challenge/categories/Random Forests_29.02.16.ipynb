{
 "cells": [
  {
   "cell_type": "code",
   "execution_count": null,
   "metadata": {
    "collapsed": false
   },
   "outputs": [],
   "source": [
    "%matplotlib inline\n",
    "import numpy as np\n",
    "import matplotlib.pyplot as plt\n",
    "import pandas as pd\n",
    "from sklearn.preprocessing import OneHotEncoder\n",
    "from sklearn.ensemble import RandomForestClassifier\n",
    "from sklearn.metrics import roc_auc_score\n",
    "from sklearn.grid_search import GridSearchCV\n",
    "from sklearn.cross_validation import train_test_split\n",
    "from sklearn.linear_model import LogisticRegression\n",
    "import time\n",
    "import sys\n",
    "reload(sys)\n",
    "sys.setdefaultencoding(\"utf-8\")"
   ]
  },
  {
   "cell_type": "code",
   "execution_count": null,
   "metadata": {
    "collapsed": true
   },
   "outputs": [],
   "source": [
    "train_fname = '../data/train_cat_1.csv'\n",
    "test_fname = '../data/test_cat_1.csv'\n",
    "df = pd.read_csv(train_fname, sep=';')\n",
    "df_test = pd.read_csv(test_fname, sep=';')\n",
    "n_samples,n_variables = df.shape"
   ]
  },
  {
   "cell_type": "code",
   "execution_count": null,
   "metadata": {
    "collapsed": true
   },
   "outputs": [],
   "source": [
    "f_cat = ['VOIE_DEPOT','COUNTRY','SOURCE_BEGIN_MONTH','FISRT_APP_COUNTRY','FISRT_APP_TYPE','LANGUAGE_OF_FILLING',\n",
    "        'FIRST_CLASSE','TECHNOLOGIE_SECTOR','TECHNOLOGIE_FIELD','MAIN_IPC','FISRT_INV_COUNTRY','FISRT_INV_TYPE','SOURCE_CITED_AGE',\n",
    "        'SOURCE_IDX_ORI','SOURCE_IDX_RAD']"
   ]
  },
  {
   "cell_type": "code",
   "execution_count": null,
   "metadata": {
    "collapsed": true
   },
   "outputs": [],
   "source": [
    "y_fname = '../data/y_train_1.csv'\n",
    "df_y = pd.read_csv(y_fname, sep=';')"
   ]
  },
  {
   "cell_type": "code",
   "execution_count": null,
   "metadata": {
    "collapsed": false
   },
   "outputs": [],
   "source": [
    "X_train = df[f_cat].values\n",
    "X_test = df_test[f_cat].values\n",
    "y_train = df_y['VARIABLE_CIBLE'].values == 'GRANTED'"
   ]
  },
  {
   "cell_type": "code",
   "execution_count": null,
   "metadata": {
    "collapsed": false
   },
   "outputs": [],
   "source": [
    "n_taken = n_samples\n",
    "clf = RandomForestClassifier(max_depth=8)\n",
    "start=time.time()\n",
    "clf.fit(X_train[0:n_taken], y_train[0:n_taken])\n",
    "print(time.time() - start)\n",
    "y_pred_train = clf.predict_proba(X_train)[:, 1]\n",
    "print('Score (optimiste) sur le train : %s' % roc_auc_score(y_train, y_pred_train))"
   ]
  },
  {
   "cell_type": "code",
   "execution_count": null,
   "metadata": {
    "collapsed": false
   },
   "outputs": [],
   "source": [
    "n_taken = n_samples\n",
    "nb_thread = 4\n",
    "clf = RandomForestClassifier()\n",
    "parameters = {'n_estimators':[500],'criterion':['gini'],'max_depth':[170],'oob_score':[True],'min_samples_leaf':[5],'min_weight_fraction_leaf':[0],'min_samples_split':[2]}\n",
    "def scorer(estimator, X, y):\n",
    "    return roc_auc_score(y, estimator.predict_proba(X)[:,1])\n",
    "gscv = GridSearchCV(clf, parameters, scorer, n_jobs = nb_thread)\n",
    "start = time.time()\n",
    "gscv.fit(X_train[0:n_taken],y_train[0:n_taken])\n",
    "print(time.time() - start)\n",
    "#y_pred_valid = gscv.predict_proba(X_train[n_taken:])[:, 1]\n",
    "print('Score raisonnable sur le train : {}'.format(gscv.best_score_))\n",
    "#print('Score sur la validation : {}'.format(roc_auc_score(y_train[n_taken:], y_pred_valid)))\n",
    "print(gscv.best_params_)"
   ]
  },
  {
   "cell_type": "code",
   "execution_count": null,
   "metadata": {
    "collapsed": true
   },
   "outputs": [],
   "source": [
    "# 0.666286162905 {'oob_score': True, 'min_samples_leaf': 5, 'n_estimators': 30, 'min_weight_fraction_leaf': 0,\n",
    "#                 'min_samples_split': 2, 'max_depth': 14}\n",
    "\n",
    "# 0.667316737876 {'oob_score': True, 'min_samples_leaf': 5, 'n_estimators': 60, 'min_weight_fraction_leaf': 0,\n",
    "#                 'min_samples_split': 2, 'max_depth': 14}\n",
    "\n",
    "# 0.669209325129 {'oob_score': True, 'min_samples_leaf': 5, 'n_estimators': 200, 'min_weight_fraction_leaf': 0,\n",
    "#                 'criterion': 'gini', 'min_samples_split': 2, 'max_depth': 50}\n",
    "\n",
    "# 0.669389611075 {'oob_score': True, 'min_samples_leaf': 5, 'n_estimators': 500, 'min_weight_fraction_leaf': 0,\n",
    "#                 'criterion': 'gini', 'min_samples_split': 2, 'max_depth': 50}\n",
    "\n",
    "# 0.669437592563 {'oob_score': True, 'min_samples_leaf': 5, 'n_estimators': 500, 'min_weight_fraction_leaf': 0, 'criterion': 'gini',\n",
    "#                 'min_samples_split': 2, 'max_depth': 90}\n",
    "\n",
    "# 0.669496310911 {'oob_score': True, 'min_samples_leaf': 5, 'n_estimators': 500, 'min_weight_fraction_leaf': 0, 'criterion': 'gini',\n",
    "#                 'min_samples_split': 2, 'max_depth': 170}"
   ]
  },
  {
   "cell_type": "code",
   "execution_count": null,
   "metadata": {
    "collapsed": false
   },
   "outputs": [],
   "source": [
    "n_taken = n_samples\n",
    "nb_thread = 4\n",
    "clf = RandomForestClassifier()\n",
    "parameters = {'max_depth':[13,14,15],'oob_score':[False,True],'min_samples_leaf':[4,5,6],'min_weight_fraction_leaf':[0,0.1],'min_samples_split':[1,2,3]}\n",
    "def scorer(estimator, X, y):\n",
    "    return roc_auc_score(y, estimator.predict_proba(X)[:,1])\n",
    "gscv = GridSearchCV(clf, parameters, scorer, n_jobs = nb_thread)\n",
    "start = time.time()\n",
    "gscv.fit(X_train[0:n_taken],y_train[0:n_taken])\n",
    "print(time.time() - start)\n",
    "#y_pred_valid = gscv.predict_proba(X_train[n_taken:])[:, 1]\n",
    "print('Score raisonnable sur le train : {}'.format(gscv.best_score_))\n",
    "#print('Score sur la validation : {}'.format(roc_auc_score(y_train[n_taken:], y_pred_valid)))\n",
    "print(gscv.best_params_)"
   ]
  },
  {
   "cell_type": "code",
   "execution_count": null,
   "metadata": {
    "collapsed": true
   },
   "outputs": [],
   "source": [
    "# 0.662614486246 {'min_samples_split': 2, 'oob_score': False, 'min_weight_fraction_leaf': 0, 'max_depth': 14, 'min_samples_leaf': 5}\n",
    "# On obtient un score équivalent avec une validation.\n",
    "# Soumission à 0.665499020495 : tout va bien.\n",
    "# 0.663469562149 {'min_samples_split': 2, 'oob_score': True, 'min_weight_fraction_leaf': 0, 'max_depth': 14, 'min_samples_leaf': 5}"
   ]
  },
  {
   "cell_type": "code",
   "execution_count": null,
   "metadata": {
    "collapsed": true
   },
   "outputs": [],
   "source": [
    "y_pred_train = gscv.predict_proba(X_train)[:, 1]\n",
    "pd.DataFrame(data=y_pred_train, columns=['VARIABLE_CIBLE']).to_csv(path_or_buf='../y_trained/cat_RF_1_29.02.26.txt', sep=';')"
   ]
  },
  {
   "cell_type": "code",
   "execution_count": null,
   "metadata": {
    "collapsed": true
   },
   "outputs": [],
   "source": [
    "y_test = gscv.predict_proba(X_test)[:, 1]\n",
    "np.savetxt('../subs/cate_RF_1.txt', y_test, fmt='%s')"
   ]
  },
  {
   "cell_type": "markdown",
   "metadata": {
    "collapsed": true
   },
   "source": [
    "#### Testons un truc stylé : On utilise les leaves des arbres créés par random forest comme features d'une régression logistique."
   ]
  },
  {
   "cell_type": "code",
   "execution_count": null,
   "metadata": {
    "collapsed": false
   },
   "outputs": [],
   "source": [
    "X_train_rf, X_train_lr, y_train_rf, y_train_lr = train_test_split(X_train,\n",
    "                                                            y_train,\n",
    "                                                            test_size=0.5)"
   ]
  },
  {
   "cell_type": "code",
   "execution_count": null,
   "metadata": {
    "collapsed": true
   },
   "outputs": [],
   "source": [
    "#n_taken = n_samples\n",
    "nb_thread = 4\n",
    "clf = RandomForestClassifier()\n",
    "parameters = {'n_estimators':[500],'criterion':['gini'],'max_depth':[170],'oob_score':[True],'min_samples_leaf':[5],'min_weight_fraction_leaf':[0],'min_samples_split':[2]}\n",
    "def scorer(estimator, X, y):\n",
    "    return roc_auc_score(y, estimator.predict_proba(X)[:,1])\n",
    "gscv = GridSearchCV(clf, parameters, scorer, n_jobs = nb_thread)\n",
    "start = time.time()\n",
    "gscv.fit(X_train_rf,y_train_rf)\n",
    "print(time.time() - start)\n",
    "#y_pred_valid = gscv.predict_proba(X_train[n_taken:])[:, 1]\n",
    "print('Score raisonnable de la CV : {}'.format(gscv.best_score_))\n",
    "#print('Score sur la validation : {}'.format(roc_auc_score(y_train[n_taken:], y_pred_valid)))\n",
    "print(gscv.best_params_)"
   ]
  },
  {
   "cell_type": "code",
   "execution_count": null,
   "metadata": {
    "collapsed": false
   },
   "outputs": [],
   "source": [
    "rf_enc = OneHotEncoder()\n",
    "rf_enc.fit(gscv.best_estimator_.apply(X_train_rf))\n",
    "\n",
    "nb_thread = 4\n",
    "parameters = {'C':[1]}\n",
    "clf = GridSearchCV(LogisticRegression(), parameters, scorer, n_jobs = nb_thread)\n",
    "start = time.time()\n",
    "clf.fit(rf_enc.transform(gscv.best_estimator_.apply(X_train_lr)), y_train_lr)\n",
    "print(time.time() - start)\n",
    "#y_pred_valid = gscv.predict_proba(X_train[n_taken:])[:, 1]\n",
    "print('Score raisonnable de la CV : {}'.format(clf.best_score_))\n",
    "#print('Score sur la validation : {}'.format(roc_auc_score(y_train[n_taken:], y_pred_valid)))\n",
    "print(clf.best_params_)"
   ]
  },
  {
   "cell_type": "code",
   "execution_count": null,
   "metadata": {
    "collapsed": true
   },
   "outputs": [],
   "source": []
  }
 ],
 "metadata": {
  "kernelspec": {
   "display_name": "Python 2",
   "language": "python",
   "name": "python2"
  },
  "language_info": {
   "codemirror_mode": {
    "name": "ipython",
    "version": 2
   },
   "file_extension": ".py",
   "mimetype": "text/x-python",
   "name": "python",
   "nbconvert_exporter": "python",
   "pygments_lexer": "ipython2",
   "version": "2.7.11"
  }
 },
 "nbformat": 4,
 "nbformat_minor": 0
}
