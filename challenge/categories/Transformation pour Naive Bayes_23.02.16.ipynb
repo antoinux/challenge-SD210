{
 "cells": [
  {
   "cell_type": "code",
   "execution_count": 18,
   "metadata": {
    "collapsed": true
   },
   "outputs": [],
   "source": [
    "%matplotlib inline\n",
    "import numpy as np\n",
    "import matplotlib.pyplot as plt\n",
    "import pandas as pd"
   ]
  },
  {
   "cell_type": "code",
   "execution_count": 19,
   "metadata": {
    "collapsed": false
   },
   "outputs": [],
   "source": [
    "train_fname = '../data/train_transformed_1.csv'\n",
    "test_fname = '../data/test.csv'\n",
    "df = pd.read_csv(train_fname, sep=';')\n",
    "df_test = pd.read_csv(test_fname, sep=';')\n",
    "f_cat = ['COUNTRY','FISRT_APP_COUNTRY','FISRT_APP_TYPE','LANGUAGE_OF_FILLING',\n",
    "        'FIRST_CLASSE','TECHNOLOGIE_SECTOR','MAIN_IPC','FISRT_INV_COUNTRY','FISRT_INV_TYPE','SOURCE_CITED_AGE',\n",
    "        'SOURCE_IDX_ORI','SOURCE_IDX_RAD']\n",
    "n_samples,n_variables = df.shape[0],len(f_cat)"
   ]
  },
  {
   "cell_type": "code",
   "execution_count": 20,
   "metadata": {
    "collapsed": false
   },
   "outputs": [],
   "source": [
    "# On ne se soucie pas des labels représentant les trous pour l'instant.\n",
    "X_train = df[f_cat]\n",
    "y_train = df[['VARIABLE_CIBLE']]\n",
    "X_test = df_test[f_cat]"
   ]
  },
  {
   "cell_type": "code",
   "execution_count": 21,
   "metadata": {
    "collapsed": false
   },
   "outputs": [
    {
     "name": "stdout",
     "output_type": "stream",
     "text": [
      "37336\n",
      "36460\n"
     ]
    }
   ],
   "source": [
    "# On espère que pour chaque colonne, il y a peu de possibilités (éventuellement quelque unes de plus pour les pays), et \n",
    "# qu'on pourra donc utiliser efficassement un classifier de Bayes. Or la colonne 'FIRST_CLASS' contient 36460 labels\n",
    "# différents. On voit mal ce qu'on pourrait en faire... On décide donc de s'en débarasser.\n",
    "labels = []\n",
    "\n",
    "for col in f_cat:\n",
    "    X = set(X_train[col].tolist())\n",
    "    labels += set([x for x in X if isinstance(x, basestring)])\n",
    "    \n",
    "print(len(labels))\n",
    "print(len(set(X_train['FIRST_CLASSE'].tolist())))"
   ]
  },
  {
   "cell_type": "code",
   "execution_count": 24,
   "metadata": {
    "collapsed": true
   },
   "outputs": [],
   "source": [
    "f_cat = ['COUNTRY','FISRT_APP_COUNTRY','FISRT_APP_TYPE','LANGUAGE_OF_FILLING',\n",
    "        'TECHNOLOGIE_SECTOR','MAIN_IPC','FISRT_INV_COUNTRY','FISRT_INV_TYPE','SOURCE_CITED_AGE',\n",
    "        'SOURCE_IDX_ORI','SOURCE_IDX_RAD']\n",
    "n_samples,n_variables = df.shape[0],len(f_cat)\n",
    "# On ne se soucie pas des labels représentant les trous pour l'instant.\n",
    "X_train = df[f_cat]\n",
    "y_train = df[['VARIABLE_CIBLE']]\n",
    "X_test = df_test[f_cat]"
   ]
  },
  {
   "cell_type": "code",
   "execution_count": 29,
   "metadata": {
    "collapsed": false
   },
   "outputs": [
    {
     "name": "stdout",
     "output_type": "stream",
     "text": [
      "880\n",
      "259431\n",
      "228299280\n"
     ]
    }
   ],
   "source": [
    "labels = []\n",
    "\n",
    "for col in f_cat:\n",
    "    labels += set((col+':'+X_train[col].astype(str)).tolist())\n",
    "    \n",
    "print(len(labels))\n",
    "print(n_samples)\n",
    "print(n_samples*len(labels))"
   ]
  },
  {
   "cell_type": "markdown",
   "metadata": {},
   "source": [
    "### Une matrice de taille 200,000x1000 reste un peu grosse, mais il ne faut pas perdre de vu qu'elle sera booléenne et que le classifier de Bayes n'est pas trop gourmand en puissance (même si ça dépend des variantes)."
   ]
  },
  {
   "cell_type": "code",
   "execution_count": 26,
   "metadata": {
    "collapsed": false
   },
   "outputs": [],
   "source": [
    "df_transformed = pd.DataFrame(data=np.zeros((n_samples,len(labels))), columns=labels, dtype=bool)"
   ]
  },
  {
   "cell_type": "markdown",
   "metadata": {},
   "source": [
    "### Visiblement cette matrice est déjà trop grosse pour python... On va enlever donc les features qui générèrent le plus de labels différents jusqu'à ce que ça rentre..."
   ]
  },
  {
   "cell_type": "markdown",
   "metadata": {},
   "source": [
    "COUNTRY : 91\n",
    "FISRT_APP_COUNTRY : 128\n",
    "MAIN_IPC : 626\n",
    "FISRT_INV_COUNTRY : 136"
   ]
  },
  {
   "cell_type": "code",
   "execution_count": 30,
   "metadata": {
    "collapsed": true
   },
   "outputs": [],
   "source": [
    "f_cat = ['COUNTRY','FISRT_APP_COUNTRY','FISRT_APP_TYPE','LANGUAGE_OF_FILLING',\n",
    "        'TECHNOLOGIE_SECTOR','MAIN_IPC','FISRT_INV_COUNTRY','FISRT_INV_TYPE','SOURCE_CITED_AGE',\n",
    "        'SOURCE_IDX_ORI','SOURCE_IDX_RAD']\n",
    "n_samples,n_variables = df.shape[0],len(f_cat)\n",
    "# On ne se soucie pas des labels représentant les trous pour l'instant.\n",
    "X_train = df[f_cat]\n",
    "y_train = df[['VARIABLE_CIBLE']]\n",
    "X_test = df_test[f_cat]"
   ]
  },
  {
   "cell_type": "code",
   "execution_count": 31,
   "metadata": {
    "collapsed": false
   },
   "outputs": [
    {
     "name": "stdout",
     "output_type": "stream",
     "text": [
      "1036\n",
      "259431\n",
      "268770516\n"
     ]
    }
   ],
   "source": [
    "labels = []\n",
    "\n",
    "for col in f_cat:\n",
    "    X = set((col+':'+(X_train[col]).astype(str)).tolist() + (col+':'+(X_test[col]).astype(str)).tolist())\n",
    "    labels += set([x for x in X if isinstance(x, basestring)])\n",
    "    \n",
    "print(len(labels))\n",
    "print(n_samples)\n",
    "print(n_samples*len(labels))"
   ]
  },
  {
   "cell_type": "code",
   "execution_count": 32,
   "metadata": {
    "collapsed": true
   },
   "outputs": [],
   "source": [
    "df_transformed_train = pd.DataFrame(data=np.zeros((n_samples,len(labels))), columns=labels, dtype=bool)\n",
    "df_transformed_test = pd.DataFrame(data=np.zeros((X_test.shape[0],len(labels))), columns=labels, dtype=bool)"
   ]
  },
  {
   "cell_type": "code",
   "execution_count": 33,
   "metadata": {
    "collapsed": false
   },
   "outputs": [],
   "source": [
    "for label in labels:\n",
    "    lab = label.split(':')\n",
    "    df_transformed_train[label] = X_train[lab[0]] == lab[1]\n",
    "    df_transformed_test[label] = X_test[lab[0]] == lab[1]"
   ]
  },
  {
   "cell_type": "code",
   "execution_count": 34,
   "metadata": {
    "collapsed": false
   },
   "outputs": [],
   "source": [
    "df_transformed_train.to_csv(path_or_buf='../data/bayes_data_train_2.csv', sep=';')\n",
    "df_transformed_test.to_csv(path_or_buf='../data/bayes_data_test_2.csv', sep=';')"
   ]
  },
  {
   "cell_type": "code",
   "execution_count": 17,
   "metadata": {
    "collapsed": false
   },
   "outputs": [],
   "source": [
    "df[['VARIABLE_CIBLE']].to_csv(path_or_buf='../data/y_train_1.csv', sep=';')"
   ]
  },
  {
   "cell_type": "code",
   "execution_count": null,
   "metadata": {
    "collapsed": true
   },
   "outputs": [],
   "source": []
  }
 ],
 "metadata": {
  "kernelspec": {
   "display_name": "Python 3",
   "language": "python",
   "name": "python3"
  },
  "language_info": {
   "codemirror_mode": {
    "name": "ipython",
    "version": 3
   },
   "file_extension": ".py",
   "mimetype": "text/x-python",
   "name": "python",
   "nbconvert_exporter": "python",
   "pygments_lexer": "ipython3",
   "version": "3.5.1"
  }
 },
 "nbformat": 4,
 "nbformat_minor": 0
}
