{
 "cells": [
  {
   "cell_type": "code",
   "execution_count": 18,
   "metadata": {
    "collapsed": true
   },
   "outputs": [],
   "source": [
    "%matplotlib inline\n",
    "import numpy as np\n",
    "import matplotlib.pyplot as plt\n",
    "import pandas as pd\n",
    "from sklearn.preprocessing import OneHotEncoder\n",
    "from sklearn.ensemble import RandomForestClassifier\n",
    "from sklearn.metrics import roc_auc_score\n",
    "from sklearn.grid_search import GridSearchCV\n",
    "from scipy.sparse import csc_matrix\n",
    "import time\n",
    "import sys\n",
    "reload(sys)\n",
    "sys.setdefaultencoding(\"utf-8\")"
   ]
  },
  {
   "cell_type": "code",
   "execution_count": 19,
   "metadata": {
    "collapsed": true
   },
   "outputs": [],
   "source": [
    "train_fname = '../data/train_cat_1.csv'\n",
    "test_fname = '../data/test_cat_1.csv'\n",
    "df = pd.read_csv(train_fname, sep=';')\n",
    "df_test = pd.read_csv(test_fname, sep=';')\n",
    "n_samples,n_variables = df.shape"
   ]
  },
  {
   "cell_type": "code",
   "execution_count": 20,
   "metadata": {
    "collapsed": true
   },
   "outputs": [],
   "source": [
    "f_cat = ['VOIE_DEPOT','COUNTRY','SOURCE_BEGIN_MONTH','FISRT_APP_COUNTRY','FISRT_APP_TYPE','LANGUAGE_OF_FILLING',\n",
    "        'FIRST_CLASSE','TECHNOLOGIE_SECTOR','TECHNOLOGIE_FIELD','MAIN_IPC','FISRT_INV_COUNTRY','FISRT_INV_TYPE','SOURCE_CITED_AGE',\n",
    "        'SOURCE_IDX_ORI','SOURCE_IDX_RAD']"
   ]
  },
  {
   "cell_type": "code",
   "execution_count": 21,
   "metadata": {
    "collapsed": true
   },
   "outputs": [],
   "source": [
    "y_fname = '../data/y_train_1.csv'\n",
    "df_y = pd.read_csv(y_fname, sep=';')"
   ]
  },
  {
   "cell_type": "code",
   "execution_count": 22,
   "metadata": {
    "collapsed": true
   },
   "outputs": [],
   "source": [
    "X_train = df[f_cat].values\n",
    "X_test = df_test[f_cat].values\n",
    "y_train = df_y['VARIABLE_CIBLE'].values == 'GRANTED'"
   ]
  },
  {
   "cell_type": "code",
   "execution_count": 23,
   "metadata": {
    "collapsed": true
   },
   "outputs": [],
   "source": [
    "ohencoder = OneHotEncoder()\n",
    "X_train = ohencoder.fit_transform(X_train)\n",
    "X_test = ohencoder.transform(X_test)"
   ]
  },
  {
   "cell_type": "code",
   "execution_count": 24,
   "metadata": {
    "collapsed": false
   },
   "outputs": [],
   "source": [
    "X_train = csc_matrix(X_train)\n",
    "X_test = csc_matrix(X_test)"
   ]
  },
  {
   "cell_type": "code",
   "execution_count": 18,
   "metadata": {
    "collapsed": false
   },
   "outputs": [
    {
     "name": "stdout",
     "output_type": "stream",
     "text": [
      "36.7774038315\n",
      "Score (optimiste) sur le train : 0.678383736387\n"
     ]
    }
   ],
   "source": [
    "n_taken = n_samples\n",
    "clf = RandomForestClassifier(max_depth=30)\n",
    "start=time.time()\n",
    "clf.fit(X_train[0:n_taken], y_train[0:n_taken])\n",
    "print(time.time() - start)\n",
    "y_pred_train = clf.predict_proba(X_train)[:, 1]\n",
    "print('Score (optimiste) sur le train : %s' % roc_auc_score(y_train, y_pred_train))"
   ]
  },
  {
   "cell_type": "code",
   "execution_count": 19,
   "metadata": {
    "collapsed": true
   },
   "outputs": [],
   "source": [
    "# 0.63438457837 max_depth=12\n",
    "# 0.639923239977 max_depth=15\n",
    "# 0.650262261772 max_depth=20\n",
    "# 0.678383736387 max_depth=30 en 36.7774038315 secondes lol"
   ]
  },
  {
   "cell_type": "code",
   "execution_count": 13,
   "metadata": {
    "collapsed": false
   },
   "outputs": [],
   "source": [
    "n_taken = n_samples\n",
    "nb_thread = 4\n",
    "clf = RandomForestClassifier()\n",
    "# parameters = {'max_depth':[13,14,15],'oob_score':[False,True],'min_samples_leaf':[4,5,6],'min_weight_fraction_leaf':[0,0.1],'min_samples_split':[1,2,3]}\n",
    "parameters = {'n_estimators':[500],'max_depth':[90],'oob_score':[False],'min_samples_leaf':[2],'min_samples_split':[5]}\n",
    "def scorer(estimator, X, y):\n",
    "    return roc_auc_score(y, estimator.predict_proba(X)[:,1])\n",
    "gscv = GridSearchCV(clf, parameters, scorer, n_jobs = nb_thread)\n",
    "start = time.time()\n",
    "gscv.fit(X_train[0:n_taken],y_train[0:n_taken])\n",
    "print(time.time() - start)\n",
    "#y_pred_valid = gscv.predict_proba(X_train[n_taken:])[:, 1]\n",
    "print('Score raisonnable de la CV : {}'.format(gscv.best_score_))\n",
    "#print('Score sur la validation : {}'.format(roc_auc_score(y_train[n_taken:], y_pred_valid)))\n",
    "print(gscv.best_params_)"
   ]
  },
  {
   "cell_type": "code",
   "execution_count": null,
   "metadata": {
    "collapsed": true
   },
   "outputs": [],
   "source": [
    "# A battre : 0.669496310911 (RF sans OHE)\n",
    "\n",
    "# 0.634285098531 {'max_depth': 20}\n",
    "# 0.64671837006 {'max_depth': 50}\n",
    "# 0.651821500881 {'max_depth': 80}\n",
    "# 0.651913926046 {'max_depth': 90}\n",
    "# 0.657541811484 {'oob_score': False, 'max_depth': 90, 'min_samples_leaf': 2}\n",
    "# 0.65800847239 {'min_samples_split': 3, 'oob_score': False, 'max_depth': 90, 'min_samples_leaf': 2}\n",
    "# 0.658067765011 {'min_samples_split': 5, 'oob_score': False, 'max_depth': 90, 'min_samples_leaf': 2}\n",
    "# 0.662391108867 {'min_samples_split': 6, 'n_estimators': 30, 'oob_score': False, 'max_depth': 90, 'min_samples_leaf': 2}\n",
    "# 0.664345066245 {'min_samples_split': 5, 'n_estimators': 500, 'oob_score': False, 'max_depth': 90, 'min_samples_leaf': 2}\n",
    "# En 2560.25390887 secondes ! De quoi être inquiet..."
   ]
  }
 ],
 "metadata": {
  "kernelspec": {
   "display_name": "Python 3",
   "language": "python",
   "name": "python3"
  },
  "language_info": {
   "codemirror_mode": {
    "name": "ipython",
    "version": 3
   },
   "file_extension": ".py",
   "mimetype": "text/x-python",
   "name": "python",
   "nbconvert_exporter": "python",
   "pygments_lexer": "ipython3",
   "version": "3.5.1"
  }
 },
 "nbformat": 4,
 "nbformat_minor": 0
}
