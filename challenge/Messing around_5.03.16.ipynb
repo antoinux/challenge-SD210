{
 "cells": [
  {
   "cell_type": "code",
   "execution_count": 88,
   "metadata": {
    "collapsed": false
   },
   "outputs": [],
   "source": [
    "%matplotlib inline\n",
    "import numpy as np\n",
    "import pandas as pd\n",
    "import matplotlib.pyplot as plt\n",
    "from sklearn.linear_model import LogisticRegression\n",
    "from sklearn.linear_model import SGDClassifier\n",
    "from sklearn.preprocessing import LabelEncoder\n",
    "from sklearn.preprocessing import OneHotEncoder\n",
    "from sklearn.preprocessing import PolynomialFeatures\n",
    "from sklearn.preprocessing import scale\n",
    "from sklearn.preprocessing import Imputer\n",
    "from sklearn.ensemble import RandomForestClassifier\n",
    "from sklearn.ensemble import AdaBoostClassifier\n",
    "from sklearn.metrics import roc_auc_score\n",
    "from sklearn.grid_search import GridSearchCV\n",
    "import time\n",
    "import sys  \n",
    "reload(sys)  \n",
    "sys.setdefaultencoding('utf-8')"
   ]
  },
  {
   "cell_type": "code",
   "execution_count": 76,
   "metadata": {
    "collapsed": false
   },
   "outputs": [],
   "source": [
    "fname = 'data/train.csv'\n",
    "df = pd.read_csv(fname, sep=';')"
   ]
  },
  {
   "cell_type": "code",
   "execution_count": 77,
   "metadata": {
    "collapsed": false
   },
   "outputs": [],
   "source": [
    "f_cat = ['VOIE_DEPOT','COUNTRY','SOURCE_BEGIN_MONTH','FISRT_APP_COUNTRY','FISRT_APP_TYPE','LANGUAGE_OF_FILLING',\n",
    "         'TECHNOLOGIE_SECTOR','TECHNOLOGIE_FIELD','FISRT_INV_COUNTRY','FISRT_INV_TYPE','FIRST_CLASSE',\n",
    "         'SOURCE_CITED_AGE','SOURCE_IDX_ORI','MAIN_IPC','SOURCE_IDX_RAD']\n",
    "\n",
    "f_con = list(set(df.columns.values) - set(f_cat) - set(['VARIABLE_CIBLE']))\n",
    "n_samples, n_features = df.shape[0], len(f_con)"
   ]
  },
  {
   "cell_type": "code",
   "execution_count": 78,
   "metadata": {
    "collapsed": false
   },
   "outputs": [],
   "source": [
    "X_train = df[f_con].values\n",
    "y_train = df['VARIABLE_CIBLE'].values == 'GRANTED'"
   ]
  },
  {
   "cell_type": "code",
   "execution_count": 79,
   "metadata": {
    "collapsed": false
   },
   "outputs": [],
   "source": [
    "for i in range(n_samples):\n",
    "    for j in range(n_features):\n",
    "        if(isinstance(X_train[i][j], basestring)):\n",
    "            x = X_train[i][j]\n",
    "            s = x.split('/')\n",
    "            X_train[i][j] = int(s[0]) + 12*int(s[1])\n",
    "\n"
   ]
  },
  {
   "cell_type": "code",
   "execution_count": 81,
   "metadata": {
    "collapsed": false
   },
   "outputs": [],
   "source": [
    "imputer = Imputer()\n",
    "X_train = imputer.fit_transform(X_train)\n",
    "scale(X_train, copy=False);"
   ]
  },
  {
   "cell_type": "code",
   "execution_count": 120,
   "metadata": {
    "collapsed": false
   },
   "outputs": [],
   "source": [
    "def scorer(estimator, X, y):\n",
    "    return roc_auc_score(y, estimator.predict(X))\n",
    "n_taken = n_samples\n",
    "params = {'loss':['hinge'],'alpha':[0.00001],'penalty':['l2'],'n_iter':[5,10,20,30,40],'power_t':[0.5]}\n",
    "clf = GridSearchCV(SGDClassifier(), params, scorer, n_jobs=2)\n",
    "start = time.time()\n",
    "clf.fit(X_train[0:n_taken], y_train[0:n_taken])\n",
    "print(\"{} secondes pour fit !\".format(time.time() - start))\n",
    "print(\"Score de la CV : {}\".format(clf.best_score_))\n",
    "print(\"Meilleurs pamamètres : {}\".format(clf.best_params_))"
   ]
  },
  {
   "cell_type": "code",
   "execution_count": 121,
   "metadata": {
    "collapsed": false
   },
   "outputs": [],
   "source": [
    "# 0.607230290732 {'alpha': 0.01, 'loss': 'log'} l2\n",
    "# 0.604902189663 {'penalty': 'l1', 'alpha': 0.001, 'loss': 'log'}\n",
    "# 0.606824454887 {'penalty': 'elasticnet', 'alpha': 0.01, 'loss': 'log'}\n",
    "# 0.607516379177 {'penalty': 'l2', 'alpha': 0.01, 'n_iter': 17, 'loss': 'log', 'power_t':[0.5]}\n",
    "\n",
    "# 0.547014749323 {'penalty': 'l2', 'alpha': 0.001, 'power_t': 0.5, 'loss': 'perceptron', 'n_iter': 30}\n",
    "# C'est bien de la grosse merde.\n",
    "\n",
    "# 0.545011050267 {'penalty': 'l2', 'alpha': 0.001, 'power_t': 0.5, 'loss': 'modified_huber', 'n_iter': 5}\n",
    "# Not getting any better.\n",
    "\n",
    "# 0.538653971088 {'penalty': 'l2', 'alpha': 1e-05, 'power_t': 0.5, 'loss': 'hinge', 'n_iter': 20}"
   ]
  },
  {
   "cell_type": "markdown",
   "metadata": {},
   "source": [
    "#### SGD est définitivement de la merde pour ce problème. On visait un truc du style 0.62 pour rivaliser avec logistic regression avec features polynomiales d'ordre 2. Et random forest. Random forest a bien marché sur ce problème. :D"
   ]
  },
  {
   "cell_type": "code",
   "execution_count": 132,
   "metadata": {
    "collapsed": false
   },
   "outputs": [],
   "source": [
    "def scorer(estimator, X, y):\n",
    "    return roc_auc_score(y, estimator.predict_proba(X)[:,1])\n",
    "n_taken = n_samples\n",
    "params = {'min_samples_split': [4], 'oob_score': [True], 'min_weight_fraction_leaf': [0], 'max_depth': [11],\n",
    "          'min_samples_leaf': [3], 'max_leaf_nodes': [60,70,80,90]}\n",
    "clf = GridSearchCV(RandomForestClassifier(), params, scorer, n_jobs=2)\n",
    "start = time.time()\n",
    "clf.fit(X_train[0:n_taken], y_train[0:n_taken])\n",
    "print(\"{} secondes pour fit !\".format(time.time() - start))\n",
    "print(\"Score de la CV : {}\".format(clf.best_score_))\n",
    "print(\"Meilleurs pamamètres : {}\".format(clf.best_params_))"
   ]
  },
  {
   "cell_type": "code",
   "execution_count": null,
   "metadata": {
    "collapsed": false
   },
   "outputs": [],
   "source": [
    "# 0.631244960231 {'max_depth': 10}\n",
    "# 0.629891036885 {'oob_score': True, 'max_leaf_nodes': 80, 'min_samples_leaf': 3, 'min_weight_fraction_leaf': 0, 'min_samples_split': 4, 'max_depth': 11}\n",
    "# Autant ne pas tune ce paramètre satanique lulz.\n",
    "\n",
    "# 0.633689374595 {'min_samples_split': 4, 'oob_score': True, 'min_weight_fraction_leaf': 0, 'max_depth': 11, 'min_samples_leaf': 3}"
   ]
  },
  {
   "cell_type": "code",
   "execution_count": 135,
   "metadata": {
    "collapsed": false
   },
   "outputs": [],
   "source": [
    "def scorer(estimator, X, y):\n",
    "    return roc_auc_score(y, estimator.predict_proba(X)[:,1])\n",
    "n_taken = n_samples\n",
    "params = {}\n",
    "clf = GridSearchCV(AdaBoostClassifier(), params, scorer, n_jobs=2)\n",
    "start = time.time()\n",
    "clf.fit(X_train[0:n_taken], y_train[0:n_taken])\n",
    "print(\"{} secondes pour fit !\".format(time.time() - start))\n",
    "print(\"Score de la CV : {}\".format(clf.best_score_))\n",
    "print(\"Meilleurs pamamètres : {}\".format(clf.best_params_))"
   ]
  },
  {
   "cell_type": "code",
   "execution_count": null,
   "metadata": {
    "collapsed": false
   },
   "outputs": [],
   "source": [
    "# 0.623306132196 default params. Do you even lift ? Mer comment ont-ils fait ?"
   ]
  }
 ],
 "metadata": {
  "kernelspec": {
   "display_name": "Python 3",
   "language": "python",
   "name": "python3"
  },
  "language_info": {
   "codemirror_mode": {
    "name": "ipython",
    "version": 3
   },
   "file_extension": ".py",
   "mimetype": "text/x-python",
   "name": "python",
   "nbconvert_exporter": "python",
   "pygments_lexer": "ipython3",
   "version": "3.5.1"
  }
 },
 "nbformat": 4,
 "nbformat_minor": 0
}
