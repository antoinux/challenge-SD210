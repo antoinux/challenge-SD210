{
 "cells": [
  {
   "cell_type": "code",
   "execution_count": 6,
   "metadata": {
    "collapsed": false
   },
   "outputs": [],
   "source": [
    "%matplotlib inline\n",
    "import numpy as np\n",
    "import matplotlib.pyplot as plt\n",
    "import pandas as pd\n",
    "from sklearn.preprocessing import scale\n",
    "from sklearn.preprocessing import Imputer\n",
    "from sklearn.preprocessing import LabelEncoder\n",
    "from collections import defaultdict\n",
    "import operator"
   ]
  },
  {
   "cell_type": "code",
   "execution_count": 2,
   "metadata": {
    "collapsed": false
   },
   "outputs": [],
   "source": [
    "train_fname = 'data/train.csv'\n",
    "test_fname = 'data/test.csv'\n",
    "df = pd.read_csv(train_fname, sep=';')\n",
    "df_test = pd.read_csv(test_fname, sep=';')\n",
    "(n_samples,n_variables) = df.shape"
   ]
  },
  {
   "cell_type": "code",
   "execution_count": 3,
   "metadata": {
    "collapsed": true
   },
   "outputs": [],
   "source": [
    "f_con = ['APP_NB','APP_NB_PAYS','APP_NB_TYPE','NB_CLASSES','NB_ROOT_CLASSES','NB_SECTORS','NB_FIELDS','INV_NB',\n",
    "        'INV_NB_PAYS','INV_NB_TYPE','cited_n','cited_age_min','cited_age_median','cited_age_max','cited_age_mean',\n",
    "        'cited_age_std','NB_BACKWARD_NPL','NB_BACKWARD_XY','NB_BACKWARD_I','NB_BACKWARD_AUTRE','NB_BACKWARD_PL',\n",
    "        'NB_BACKWARD','pct_NB_IPC','pct_NB_IPC_LY','oecd_NB_ROOT_CLASSES','oecd_NB_BACKWARD_PL','oecd_NB_BACKWARD_NPL',\n",
    "        'IDX_ORIGIN','IDX_RADIC','PRIORITY_MONTH','FILING_MONTH','PUBLICATION_MONTH','BEGIN_MONTH']\n",
    "f_cat = ['VOIE_DEPOT','COUNTRY','SOURCE_BEGIN_MONTH','FISRT_APP_COUNTRY','FISRT_APP_TYPE','LANGUAGE_OF_FILLING',\n",
    "        'FIRST_CLASSE','TECHNOLOGIE_SECTOR','TECHNOLOGIE_FIELD','MAIN_IPC','FISRT_INV_COUNTRY','FISRT_INV_TYPE','SOURCE_CITED_AGE',\n",
    "        'SOURCE_IDX_ORI','SOURCE_IDX_RAD']"
   ]
  },
  {
   "cell_type": "markdown",
   "metadata": {},
   "source": [
    "## 1) Données continues."
   ]
  },
  {
   "cell_type": "code",
   "execution_count": 4,
   "metadata": {
    "collapsed": true
   },
   "outputs": [],
   "source": [
    "X_train_con = df[f_con].values\n",
    "X_test_con = df_test[f_con].values"
   ]
  },
  {
   "cell_type": "code",
   "execution_count": 7,
   "metadata": {
    "collapsed": false
   },
   "outputs": [],
   "source": [
    "for i in range(n_samples):\n",
    "    for j in range(29,33):\n",
    "        if(isinstance(X_train_con[i][j],six.string_types)):\n",
    "            str = X_train_con[i][j].split('/')\n",
    "            X_train_con[i][j] = int(str[0]) + 12*int(str[1])\n",
    "\n",
    "for i in range(X_test_con.shape[0]):\n",
    "    for j in range(29,33):\n",
    "        if(isinstance(X_test_con[i][j],six.string_types)):\n",
    "            str = X_test_con[i][j].split('/')\n",
    "            X_test_con[i][j] = int(str[0]) + 12*int(str[1])"
   ]
  },
  {
   "cell_type": "code",
   "execution_count": 8,
   "metadata": {
    "collapsed": false
   },
   "outputs": [],
   "source": [
    "imputer = Imputer()\n",
    "X_train_con = imputer.fit_transform(X_train_con)\n",
    "X_test_con = imputer.fit_transform(X_test_con)"
   ]
  },
  {
   "cell_type": "code",
   "execution_count": 9,
   "metadata": {
    "collapsed": true
   },
   "outputs": [],
   "source": [
    "scale(X_train_con, copy=False);\n",
    "scale(X_test_con, copy=False);"
   ]
  },
  {
   "cell_type": "markdown",
   "metadata": {},
   "source": [
    "## 2) Données catégorielles"
   ]
  },
  {
   "cell_type": "code",
   "execution_count": 14,
   "metadata": {
    "collapsed": true
   },
   "outputs": [],
   "source": [
    "class MultiColumnLabelEncoder:\n",
    "    def __init__(self,columns = None):\n",
    "        self.columns = columns # array of column names to encode\n",
    "\n",
    "    def fit(self,X,y=None):\n",
    "        return self # not relevant here\n",
    "\n",
    "    def transform(self,X):\n",
    "        '''\n",
    "        Transforms columns of X specified in self.columns using\n",
    "        LabelEncoder(). If no columns specified, transforms all\n",
    "        columns in X.\n",
    "        '''\n",
    "        output = X.copy()\n",
    "        if self.columns is not None:\n",
    "            for col in self.columns:\n",
    "                output[col] = LabelEncoder().fit_transform(output[col])\n",
    "        else:\n",
    "            for colname,col in output.iteritems():\n",
    "                output[colname] = LabelEncoder().fit_transform(col)\n",
    "        return output\n",
    "\n",
    "    def fit_transform(self,X,y=None):\n",
    "        return self.fit(X,y).transform(X)"
   ]
  },
  {
   "cell_type": "code",
   "execution_count": 21,
   "metadata": {
    "collapsed": false
   },
   "outputs": [],
   "source": [
    "X_train_cat = df[f_cat].values\n",
    "X_test_cat = df_test[f_cat].values\n",
    "\n",
    "for i in range(n_samples):\n",
    "    for j in range(len(f_cat)):\n",
    "        if not isinstance(X_train_cat[i][j], six.string_types):\n",
    "            X_train_cat[i][j] = '(MISSING)'\n",
    "            \n",
    "for i in range(X_test_cat.shape[0]):\n",
    "    for j in range(len(f_cat)):\n",
    "        if not isinstance(X_test_cat[i][j], six.string_types):\n",
    "            X_test_cat[i][j] = '(MISSING)'"
   ]
  },
  {
   "cell_type": "code",
   "execution_count": 22,
   "metadata": {
    "collapsed": false
   },
   "outputs": [],
   "source": [
    "encoder = MultiColumnLabelEncoder()\n",
    "X_cat = encoder.fit_transform(pd.DataFrame(np.concatenate([X_train_cat,X_test_cat], axis=0),columns=f_cat)).values"
   ]
  },
  {
   "cell_type": "code",
   "execution_count": 23,
   "metadata": {
    "collapsed": false
   },
   "outputs": [
    {
     "name": "stdout",
     "output_type": "stream",
     "text": [
      "0 : VOIE_DEPOT 1\n",
      "1 : COUNTRY 94\n",
      "2 : SOURCE_BEGIN_MONTH 2\n",
      "3 : FISRT_APP_COUNTRY 143\n",
      "4 : FISRT_APP_TYPE 4\n",
      "5 : LANGUAGE_OF_FILLING 29\n",
      "6 : FIRST_CLASSE 41178\n",
      "7 : TECHNOLOGIE_SECTOR 4\n",
      "8 : TECHNOLOGIE_FIELD 34\n",
      "9 : MAIN_IPC 629\n",
      "10 : FISRT_INV_COUNTRY 150\n",
      "11 : FISRT_INV_TYPE 4\n",
      "12 : SOURCE_CITED_AGE 1\n",
      "13 : SOURCE_IDX_ORI 1\n",
      "14 : SOURCE_IDX_RAD 1\n"
     ]
    }
   ],
   "source": [
    "for i in range(len(f_cat)):\n",
    "    print(\"{} : {} {}\".format(i,f_cat[i],np.max(X_cat[:,i])))"
   ]
  },
  {
   "cell_type": "code",
   "execution_count": 12,
   "metadata": {
    "collapsed": true
   },
   "outputs": [],
   "source": [
    "X_train_cat = X_cat[0:n_samples,:]\n",
    "X_test_cat = X_cat[n_samples:,:]"
   ]
  },
  {
   "cell_type": "code",
   "execution_count": 15,
   "metadata": {
    "collapsed": false
   },
   "outputs": [],
   "source": [
    "X_train = np.concatenate((X_train_con,X_train_cat), axis=1)\n",
    "X_test = np.concatenate((X_test_con,X_test_cat), axis=1)\n",
    "\n",
    "pd.DataFrame(data=X_train, columns=f_con + f_cat).to_csv(path_or_buf='../data/train_1.csv', sep=';')\n",
    "pd.DataFrame(data=X_test, columns=f_con + f_cat).to_csv(path_or_buf='../data/test_1.csv', sep=';')"
   ]
  },
  {
   "cell_type": "markdown",
   "metadata": {},
   "source": [
    "#### Sans FIRST_CLASSE :"
   ]
  },
  {
   "cell_type": "code",
   "execution_count": 13,
   "metadata": {
    "collapsed": true
   },
   "outputs": [],
   "source": [
    "f_cat_2 = ['VOIE_DEPOT','COUNTRY','SOURCE_BEGIN_MONTH','FISRT_APP_COUNTRY','FISRT_APP_TYPE','LANGUAGE_OF_FILLING',\n",
    "        'TECHNOLOGIE_SECTOR','TECHNOLOGIE_FIELD','MAIN_IPC','FISRT_INV_COUNTRY','FISRT_INV_TYPE','SOURCE_CITED_AGE',\n",
    "        'SOURCE_IDX_ORI','SOURCE_IDX_RAD']"
   ]
  },
  {
   "cell_type": "code",
   "execution_count": 14,
   "metadata": {
    "collapsed": true
   },
   "outputs": [],
   "source": [
    "X_train_cat_2 = df[f_cat_2].values\n",
    "X_test_cat_2 = df_test[f_cat_2].values"
   ]
  },
  {
   "cell_type": "code",
   "execution_count": 15,
   "metadata": {
    "collapsed": false
   },
   "outputs": [],
   "source": [
    "encoder = MultiColumnLabelEncoder()\n",
    "X_cat = encoder.fit_transform(pd.DataFrame(np.concatenate([X_train_cat_2,X_test_cat_2], axis=0),columns=f_cat_2)).values"
   ]
  },
  {
   "cell_type": "code",
   "execution_count": 16,
   "metadata": {
    "collapsed": false
   },
   "outputs": [
    {
     "name": "stdout",
     "output_type": "stream",
     "text": [
      "0 : VOIE_DEPOT 1\n",
      "1 : COUNTRY 94\n",
      "2 : SOURCE_BEGIN_MONTH 2\n",
      "3 : FISRT_APP_COUNTRY 143\n",
      "4 : FISRT_APP_TYPE 4\n",
      "5 : LANGUAGE_OF_FILLING 29\n",
      "6 : FIRST_CLASSE 4\n",
      "7 : TECHNOLOGIE_SECTOR 34\n",
      "8 : TECHNOLOGIE_FIELD 629\n",
      "9 : MAIN_IPC 150\n",
      "10 : FISRT_INV_COUNTRY 4\n",
      "11 : FISRT_INV_TYPE 1\n",
      "12 : SOURCE_CITED_AGE 1\n",
      "13 : SOURCE_IDX_ORI 1\n"
     ]
    }
   ],
   "source": [
    "for i in range(len(f_cat_2)):\n",
    "    print(\"{} : {} {}\".format(i,f_cat[i],np.max(X_cat[:,i])))"
   ]
  },
  {
   "cell_type": "code",
   "execution_count": 19,
   "metadata": {
    "collapsed": false
   },
   "outputs": [],
   "source": [
    "X_train_cat_2 = X_cat[0:n_samples,:]\n",
    "X_test_cat_2 = X_cat[n_samples:,:]"
   ]
  },
  {
   "cell_type": "code",
   "execution_count": 21,
   "metadata": {
    "collapsed": true
   },
   "outputs": [],
   "source": [
    "X_train = np.concatenate((X_train_con,X_train_cat_2), axis=1)\n",
    "X_test = np.concatenate((X_test_con,X_test_cat_2), axis=1)\n",
    "\n",
    "pd.DataFrame(data=X_train, columns=f_con + f_cat_2).to_csv(path_or_buf='../data/train_2.csv', sep=';')\n",
    "pd.DataFrame(data=X_test, columns=f_con + f_cat_2).to_csv(path_or_buf='../data/test_2.csv', sep=';')"
   ]
  },
  {
   "cell_type": "markdown",
   "metadata": {},
   "source": [
    "#### FIRST_CLASSE tronquée :"
   ]
  },
  {
   "cell_type": "code",
   "execution_count": 24,
   "metadata": {
    "collapsed": true
   },
   "outputs": [],
   "source": [
    "X_train_cat = df[f_cat].values\n",
    "X_test_cat = df_test[f_cat].values"
   ]
  },
  {
   "cell_type": "code",
   "execution_count": 25,
   "metadata": {
    "collapsed": true
   },
   "outputs": [],
   "source": [
    "cnt = defaultdict(lambda: 0)"
   ]
  },
  {
   "cell_type": "code",
   "execution_count": 26,
   "metadata": {
    "collapsed": false
   },
   "outputs": [],
   "source": [
    "for i in range(X_train_cat.shape[0]):\n",
    "    cnt[X_train_cat[i][6]] += 1\n",
    "for i in range(X_test_cat.shape[0]):\n",
    "    cnt[X_test_cat[i][6]] += 1"
   ]
  },
  {
   "cell_type": "code",
   "execution_count": 28,
   "metadata": {
    "collapsed": false
   },
   "outputs": [],
   "source": [
    "stuff = dict(sorted(cnt.items(), key=operator.itemgetter(1), reverse=True)[:10000])"
   ]
  },
  {
   "cell_type": "code",
   "execution_count": 29,
   "metadata": {
    "collapsed": false
   },
   "outputs": [],
   "source": [
    "for i in range(X_train_cat.shape[0]):\n",
    "    if(not X_train_cat[i][6] in stuff):\n",
    "        X_train_cat[i][6] = '(MISSING)'\n",
    "for i in range(X_test_cat.shape[0]):\n",
    "    if(not X_test_cat[i][6] in stuff):\n",
    "        X_test_cat[i][6] = '(MISSING)'"
   ]
  },
  {
   "cell_type": "code",
   "execution_count": 30,
   "metadata": {
    "collapsed": false
   },
   "outputs": [
    {
     "name": "stdout",
     "output_type": "stream",
     "text": [
      "['A61K9/48' 'C08G65/26' '(MISSING)' 'F25B41/04' 'H01F17/06' 'A01N25/34'\n",
      " 'H04N7/24' '(MISSING)' 'H05K3/34' 'A61L27/00' 'G06F17/60' 'H04N13/00'\n",
      " '(MISSING)' 'A61K38/16' 'G02B6/44' 'B30B9/30' 'G01R33/3415' 'B63B21/50'\n",
      " 'H01F41/02' '(MISSING)']\n"
     ]
    }
   ],
   "source": [
    "print(X_train_cat[0:20,6])"
   ]
  },
  {
   "cell_type": "code",
   "execution_count": 32,
   "metadata": {
    "collapsed": true
   },
   "outputs": [],
   "source": [
    "for i in range(n_samples):\n",
    "    for j in range(len(f_cat)):\n",
    "        if not isinstance(X_train_cat[i][j], six.string_types):\n",
    "            X_train_cat[i][j] = '(MISSING)'\n",
    "            \n",
    "for i in range(X_test_cat.shape[0]):\n",
    "    for j in range(len(f_cat)):\n",
    "        if not isinstance(X_test_cat[i][j], six.string_types):\n",
    "            X_test_cat[i][j] = '(MISSING)'"
   ]
  },
  {
   "cell_type": "code",
   "execution_count": 33,
   "metadata": {
    "collapsed": false
   },
   "outputs": [],
   "source": [
    "encoder = MultiColumnLabelEncoder()\n",
    "X_cat = encoder.fit_transform(pd.DataFrame(np.concatenate([X_train_cat,X_test_cat], axis=0),columns=f_cat)).values"
   ]
  },
  {
   "cell_type": "code",
   "execution_count": 34,
   "metadata": {
    "collapsed": false
   },
   "outputs": [],
   "source": [
    "X_train_cat = X_cat[0:n_samples,:]\n",
    "X_test_cat = X_cat[n_samples:,:]"
   ]
  },
  {
   "cell_type": "code",
   "execution_count": 35,
   "metadata": {
    "collapsed": true
   },
   "outputs": [],
   "source": [
    "X_train = np.concatenate((X_train_con,X_train_cat), axis=1)\n",
    "X_test = np.concatenate((X_test_con,X_test_cat), axis=1)\n",
    "\n",
    "pd.DataFrame(data=X_train, columns=f_con + f_cat).to_csv(path_or_buf='data/train_6.csv', sep=';')\n",
    "pd.DataFrame(data=X_test, columns=f_con + f_cat).to_csv(path_or_buf='data/test_6.csv', sep=';')"
   ]
  },
  {
   "cell_type": "code",
   "execution_count": null,
   "metadata": {
    "collapsed": true
   },
   "outputs": [],
   "source": []
  }
 ],
 "metadata": {
  "kernelspec": {
   "display_name": "Python 3",
   "language": "python",
   "name": "python3"
  },
  "language_info": {
   "codemirror_mode": {
    "name": "ipython",
    "version": 3
   },
   "file_extension": ".py",
   "mimetype": "text/x-python",
   "name": "python",
   "nbconvert_exporter": "python",
   "pygments_lexer": "ipython3",
   "version": "3.5.1"
  }
 },
 "nbformat": 4,
 "nbformat_minor": 0
}
