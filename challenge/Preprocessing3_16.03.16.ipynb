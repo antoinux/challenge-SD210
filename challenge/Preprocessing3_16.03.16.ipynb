{
 "cells": [
  {
   "cell_type": "code",
   "execution_count": 1,
   "metadata": {
    "collapsed": true
   },
   "outputs": [],
   "source": [
    "%matplotlib inline\n",
    "import numpy as np\n",
    "import matplotlib.pyplot as plt\n",
    "import pandas as pd\n",
    "from sklearn.preprocessing import Imputer\n",
    "from sklearn.preprocessing import LabelEncoder\n",
    "from sklearn.preprocessing import OneHotEncoder\n",
    "from scipy.stats import mode\n",
    "from collections import defaultdict"
   ]
  },
  {
   "cell_type": "code",
   "execution_count": 14,
   "metadata": {
    "collapsed": true
   },
   "outputs": [],
   "source": [
    "train_fname = 'data/train.csv'\n",
    "test_fname = 'data/test.csv'\n",
    "df = pd.read_csv(train_fname, sep=';')\n",
    "df_test = pd.read_csv(test_fname, sep=';')"
   ]
  },
  {
   "cell_type": "code",
   "execution_count": 3,
   "metadata": {
    "collapsed": true
   },
   "outputs": [],
   "source": [
    "df = df.drop('VARIABLE_CIBLE', axis=1)"
   ]
  },
  {
   "cell_type": "code",
   "execution_count": 4,
   "metadata": {
    "collapsed": false
   },
   "outputs": [],
   "source": [
    "df = pd.concat((df, df_test)).reset_index()\n",
    "df = df.drop('index', axis=1)"
   ]
  },
  {
   "cell_type": "code",
   "execution_count": 1,
   "metadata": {
    "collapsed": true
   },
   "outputs": [],
   "source": [
    "f_con = ['cited_age_min','cited_age_median','cited_age_max','cited_age_mean',\n",
    "        'pct_NB_IPC','pct_NB_IPC_LY','oecd_NB_BACKWARD_PL','oecd_NB_BACKWARD_NPL',\n",
    "        'IDX_ORIGIN','IDX_RADIC']\n",
    "f_cat = ['APP_NB','APP_NB_PAYS','APP_NB_TYPE','VOIE_DEPOT','COUNTRY','SOURCE_BEGIN_MONTH','FISRT_APP_COUNTRY',\n",
    "         'FISRT_APP_TYPE','LANGUAGE_OF_FILLING','FIRST_CLASSE','TECHNOLOGIE_SECTOR','TECHNOLOGIE_FIELD','MAIN_IPC',\n",
    "         'FISRT_INV_COUNTRY','FISRT_INV_TYPE','SOURCE_CITED_AGE','SOURCE_IDX_ORI','SOURCE_IDX_RAD',\n",
    "         'NB_CLASSES','NB_ROOT_CLASSES','NB_SECTORS','NB_FIELDS','INV_NB','INV_NB_PAYS','INV_NB_TYPE',\n",
    "         'NB_BACKWARD_NPL','NB_BACKWARD_XY','NB_BACKWARD_I','NB_BACKWARD_AUTRE','NB_BACKWARD_PL',\n",
    "         'NB_BACKWARD','oecd_NB_ROOT_CLASSES','PRIORITY_MONTH','FILING_MONTH','PUBLICATION_MONTH','BEGIN_MONTH','cited_n']"
   ]
  },
  {
   "cell_type": "code",
   "execution_count": 3,
   "metadata": {
    "collapsed": false
   },
   "outputs": [
    {
     "data": {
      "text/plain": [
       "37"
      ]
     },
     "execution_count": 3,
     "metadata": {},
     "output_type": "execute_result"
    }
   ],
   "source": [
    "len(f_cat)"
   ]
  },
  {
   "cell_type": "code",
   "execution_count": 6,
   "metadata": {
    "collapsed": true
   },
   "outputs": [],
   "source": [
    "class MultiColumnLabelEncoder:\n",
    "    def __init__(self,columns = None):\n",
    "        self.columns = columns # array of column names to encode\n",
    "\n",
    "    def fit(self,X,y=None):\n",
    "        return self # not relevant here\n",
    "\n",
    "    def transform(self,X):\n",
    "        '''\n",
    "        Transforms columns of X specified in self.columns using\n",
    "        LabelEncoder(). If no columns specified, transforms all\n",
    "        columns in X.\n",
    "        '''\n",
    "        output = X.copy()\n",
    "        if self.columns is not None:\n",
    "            for col in self.columns:\n",
    "                output[col] = LabelEncoder().fit_transform(output[col])\n",
    "        else:\n",
    "            for colname,col in output.iteritems():\n",
    "                output[colname] = LabelEncoder().fit_transform(col)\n",
    "        return output\n",
    "\n",
    "    def fit_transform(self,X,y=None):\n",
    "        return self.fit(X,y).transform(X)"
   ]
  },
  {
   "cell_type": "code",
   "execution_count": 7,
   "metadata": {
    "collapsed": false
   },
   "outputs": [],
   "source": [
    "df_cat = MultiColumnLabelEncoder().fit_transform(df[f_cat].astype(str))"
   ]
  },
  {
   "cell_type": "code",
   "execution_count": 8,
   "metadata": {
    "collapsed": false
   },
   "outputs": [],
   "source": [
    "S = set(df_cat['FIRST_CLASSE'].value_counts()[0:2000].reset_index()[['index']].values[:,0])"
   ]
  },
  {
   "cell_type": "code",
   "execution_count": 9,
   "metadata": {
    "collapsed": true
   },
   "outputs": [],
   "source": [
    "Y = df_cat.values\n",
    "for i in range(df_cat.shape[0]):\n",
    "    if(not Y[i][9] in S):\n",
    "        Y[i][9] = 41178\n",
    "df_cat = pd.DataFrame(Y, columns=f_cat)"
   ]
  },
  {
   "cell_type": "code",
   "execution_count": 11,
   "metadata": {
    "collapsed": false
   },
   "outputs": [
    {
     "data": {
      "text/plain": [
       "0     365121\n",
       "8      19958\n",
       "9       2465\n",
       "10       630\n",
       "16       590\n",
       "11       178\n",
       "12        95\n",
       "13        54\n",
       "14        20\n",
       "15        14\n",
       "4          6\n",
       "1          5\n",
       "2          4\n",
       "6          2\n",
       "5          2\n",
       "7          1\n",
       "3          1\n",
       "Name: APP_NB, dtype: int64"
      ]
     },
     "execution_count": 11,
     "metadata": {},
     "output_type": "execute_result"
    }
   ],
   "source": [
    "df_cat['APP_NB'].value_counts()"
   ]
  },
  {
   "cell_type": "code",
   "execution_count": 12,
   "metadata": {
    "collapsed": false
   },
   "outputs": [],
   "source": [
    "X = pd.DataFrame(Imputer().fit_transform(df[f_con].values), columns=f_con)"
   ]
  },
  {
   "cell_type": "code",
   "execution_count": 13,
   "metadata": {
    "collapsed": false
   },
   "outputs": [],
   "source": [
    "df_2 = pd.concat((X, df_cat), axis=1)"
   ]
  },
  {
   "cell_type": "code",
   "execution_count": 26,
   "metadata": {
    "collapsed": false
   },
   "outputs": [],
   "source": [
    "n_samples = df.shape[0]\n",
    "df_2[0:n_samples].to_csv('data/train_3.csv', sep=';')\n",
    "df_2[n_samples:].to_csv('data/test_3.csv', sep=';')"
   ]
  },
  {
   "cell_type": "code",
   "execution_count": 49,
   "metadata": {
    "collapsed": false
   },
   "outputs": [],
   "source": [
    "encoder = OneHotEncoder()"
   ]
  },
  {
   "cell_type": "code",
   "execution_count": 50,
   "metadata": {
    "collapsed": false
   },
   "outputs": [],
   "source": [
    "n_samples = 259431"
   ]
  },
  {
   "cell_type": "code",
   "execution_count": 72,
   "metadata": {
    "collapsed": true
   },
   "outputs": [],
   "source": [
    "df1 = df_cat[0:n_samples]\n",
    "df2 = df_cat[n_samples:]"
   ]
  },
  {
   "cell_type": "code",
   "execution_count": 66,
   "metadata": {
    "collapsed": false
   },
   "outputs": [
    {
     "data": {
      "text/plain": [
       "(259431, 37)"
      ]
     },
     "execution_count": 66,
     "metadata": {},
     "output_type": "execute_result"
    }
   ],
   "source": [
    "df1.shape"
   ]
  },
  {
   "cell_type": "code",
   "execution_count": 67,
   "metadata": {
    "collapsed": false
   },
   "outputs": [],
   "source": [
    "df1 = encoder.fit_transform(df1)"
   ]
  },
  {
   "cell_type": "code",
   "execution_count": 78,
   "metadata": {
    "collapsed": false
   },
   "outputs": [
    {
     "data": {
      "text/plain": [
       "1     126899\n",
       "3       2411\n",
       "10       200\n",
       "4        154\n",
       "5         39\n",
       "8          6\n",
       "6          2\n",
       "9          1\n",
       "7          1\n",
       "2          1\n",
       "0          1\n",
       "Name: APP_NB_PAYS, dtype: int64"
      ]
     },
     "execution_count": 78,
     "metadata": {},
     "output_type": "execute_result"
    }
   ],
   "source": [
    "df2['APP_NB_PAYS'].value_counts()"
   ]
  },
  {
   "cell_type": "code",
   "execution_count": 77,
   "metadata": {
    "collapsed": false,
    "scrolled": true
   },
   "outputs": [
    {
     "ename": "ValueError",
     "evalue": "unknown categorical feature present [  9 120] during transform.",
     "output_type": "error",
     "traceback": [
      "\u001b[1;31m---------------------------------------------------------------------------\u001b[0m",
      "\u001b[1;31mValueError\u001b[0m                                Traceback (most recent call last)",
      "\u001b[1;32m<ipython-input-77-c0e20c0f2fea>\u001b[0m in \u001b[0;36m<module>\u001b[1;34m()\u001b[0m\n\u001b[1;32m----> 1\u001b[1;33m \u001b[0mdf2\u001b[0m \u001b[1;33m=\u001b[0m \u001b[0mencoder\u001b[0m\u001b[1;33m.\u001b[0m\u001b[0mtransform\u001b[0m\u001b[1;33m(\u001b[0m\u001b[0mdf2\u001b[0m\u001b[1;33m)\u001b[0m\u001b[1;33m\u001b[0m\u001b[0m\n\u001b[0m",
      "\u001b[1;32m/home/antoine/anaconda3/lib/python3.5/site-packages/sklearn/preprocessing/data.py\u001b[0m in \u001b[0;36mtransform\u001b[1;34m(self, X)\u001b[0m\n\u001b[0;32m   1867\u001b[0m         \"\"\"\n\u001b[0;32m   1868\u001b[0m         return _transform_selected(X, self._transform,\n\u001b[1;32m-> 1869\u001b[1;33m                                    self.categorical_features, copy=True)\n\u001b[0m",
      "\u001b[1;32m/home/antoine/anaconda3/lib/python3.5/site-packages/sklearn/preprocessing/data.py\u001b[0m in \u001b[0;36m_transform_selected\u001b[1;34m(X, transform, selected, copy)\u001b[0m\n\u001b[0;32m   1623\u001b[0m     \"\"\"\n\u001b[0;32m   1624\u001b[0m     \u001b[1;32mif\u001b[0m \u001b[0misinstance\u001b[0m\u001b[1;33m(\u001b[0m\u001b[0mselected\u001b[0m\u001b[1;33m,\u001b[0m \u001b[0msix\u001b[0m\u001b[1;33m.\u001b[0m\u001b[0mstring_types\u001b[0m\u001b[1;33m)\u001b[0m \u001b[1;32mand\u001b[0m \u001b[0mselected\u001b[0m \u001b[1;33m==\u001b[0m \u001b[1;34m\"all\"\u001b[0m\u001b[1;33m:\u001b[0m\u001b[1;33m\u001b[0m\u001b[0m\n\u001b[1;32m-> 1625\u001b[1;33m         \u001b[1;32mreturn\u001b[0m \u001b[0mtransform\u001b[0m\u001b[1;33m(\u001b[0m\u001b[0mX\u001b[0m\u001b[1;33m)\u001b[0m\u001b[1;33m\u001b[0m\u001b[0m\n\u001b[0m\u001b[0;32m   1626\u001b[0m \u001b[1;33m\u001b[0m\u001b[0m\n\u001b[0;32m   1627\u001b[0m     \u001b[0mX\u001b[0m \u001b[1;33m=\u001b[0m \u001b[0mcheck_array\u001b[0m\u001b[1;33m(\u001b[0m\u001b[0mX\u001b[0m\u001b[1;33m,\u001b[0m \u001b[0maccept_sparse\u001b[0m\u001b[1;33m=\u001b[0m\u001b[1;34m'csc'\u001b[0m\u001b[1;33m,\u001b[0m \u001b[0mcopy\u001b[0m\u001b[1;33m=\u001b[0m\u001b[0mcopy\u001b[0m\u001b[1;33m,\u001b[0m \u001b[0mdtype\u001b[0m\u001b[1;33m=\u001b[0m\u001b[0mFLOAT_DTYPES\u001b[0m\u001b[1;33m)\u001b[0m\u001b[1;33m\u001b[0m\u001b[0m\n",
      "\u001b[1;32m/home/antoine/anaconda3/lib/python3.5/site-packages/sklearn/preprocessing/data.py\u001b[0m in \u001b[0;36m_transform\u001b[1;34m(self, X)\u001b[0m\n\u001b[0;32m   1839\u001b[0m             \u001b[1;32mif\u001b[0m \u001b[0mself\u001b[0m\u001b[1;33m.\u001b[0m\u001b[0mhandle_unknown\u001b[0m \u001b[1;33m==\u001b[0m \u001b[1;34m'error'\u001b[0m\u001b[1;33m:\u001b[0m\u001b[1;33m\u001b[0m\u001b[0m\n\u001b[0;32m   1840\u001b[0m                 raise ValueError(\"unknown categorical feature present %s \"\n\u001b[1;32m-> 1841\u001b[1;33m                                  \"during transform.\" % X.ravel()[~mask])\n\u001b[0m\u001b[0;32m   1842\u001b[0m \u001b[1;33m\u001b[0m\u001b[0m\n\u001b[0;32m   1843\u001b[0m         \u001b[0mcolumn_indices\u001b[0m \u001b[1;33m=\u001b[0m \u001b[1;33m(\u001b[0m\u001b[0mX\u001b[0m \u001b[1;33m+\u001b[0m \u001b[0mindices\u001b[0m\u001b[1;33m[\u001b[0m\u001b[1;33m:\u001b[0m\u001b[1;33m-\u001b[0m\u001b[1;36m1\u001b[0m\u001b[1;33m]\u001b[0m\u001b[1;33m)\u001b[0m\u001b[1;33m.\u001b[0m\u001b[0mravel\u001b[0m\u001b[1;33m(\u001b[0m\u001b[1;33m)\u001b[0m\u001b[1;33m[\u001b[0m\u001b[0mmask\u001b[0m\u001b[1;33m]\u001b[0m\u001b[1;33m\u001b[0m\u001b[0m\n",
      "\u001b[1;31mValueError\u001b[0m: unknown categorical feature present [  9 120] during transform."
     ]
    }
   ],
   "source": [
    "df2 = encoder.transform(df2)"
   ]
  },
  {
   "cell_type": "code",
   "execution_count": 75,
   "metadata": {
    "collapsed": false,
    "scrolled": true
   },
   "outputs": [
    {
     "data": {
      "text/html": [
       "<div>\n",
       "<table border=\"1\" class=\"dataframe\">\n",
       "  <thead>\n",
       "    <tr style=\"text-align: right;\">\n",
       "      <th></th>\n",
       "      <th>APP_NB</th>\n",
       "      <th>APP_NB_PAYS</th>\n",
       "      <th>APP_NB_TYPE</th>\n",
       "      <th>VOIE_DEPOT</th>\n",
       "      <th>COUNTRY</th>\n",
       "      <th>SOURCE_BEGIN_MONTH</th>\n",
       "      <th>FISRT_APP_COUNTRY</th>\n",
       "      <th>FISRT_APP_TYPE</th>\n",
       "      <th>LANGUAGE_OF_FILLING</th>\n",
       "      <th>FIRST_CLASSE</th>\n",
       "      <th>...</th>\n",
       "      <th>NB_BACKWARD_I</th>\n",
       "      <th>NB_BACKWARD_AUTRE</th>\n",
       "      <th>NB_BACKWARD_PL</th>\n",
       "      <th>NB_BACKWARD</th>\n",
       "      <th>oecd_NB_ROOT_CLASSES</th>\n",
       "      <th>PRIORITY_MONTH</th>\n",
       "      <th>FILING_MONTH</th>\n",
       "      <th>PUBLICATION_MONTH</th>\n",
       "      <th>BEGIN_MONTH</th>\n",
       "      <th>cited_n</th>\n",
       "    </tr>\n",
       "  </thead>\n",
       "  <tbody>\n",
       "    <tr>\n",
       "      <th>0</th>\n",
       "      <td>0</td>\n",
       "      <td>1</td>\n",
       "      <td>1</td>\n",
       "      <td>0</td>\n",
       "      <td>86</td>\n",
       "      <td>0</td>\n",
       "      <td>127</td>\n",
       "      <td>1</td>\n",
       "      <td>6</td>\n",
       "      <td>4354</td>\n",
       "      <td>...</td>\n",
       "      <td>0</td>\n",
       "      <td>0</td>\n",
       "      <td>0</td>\n",
       "      <td>0</td>\n",
       "      <td>7</td>\n",
       "      <td>175</td>\n",
       "      <td>163</td>\n",
       "      <td>56</td>\n",
       "      <td>175</td>\n",
       "      <td>62</td>\n",
       "    </tr>\n",
       "    <tr>\n",
       "      <th>1</th>\n",
       "      <td>0</td>\n",
       "      <td>1</td>\n",
       "      <td>1</td>\n",
       "      <td>0</td>\n",
       "      <td>21</td>\n",
       "      <td>0</td>\n",
       "      <td>36</td>\n",
       "      <td>1</td>\n",
       "      <td>4</td>\n",
       "      <td>20022</td>\n",
       "      <td>...</td>\n",
       "      <td>0</td>\n",
       "      <td>0</td>\n",
       "      <td>0</td>\n",
       "      <td>0</td>\n",
       "      <td>12</td>\n",
       "      <td>221</td>\n",
       "      <td>233</td>\n",
       "      <td>108</td>\n",
       "      <td>221</td>\n",
       "      <td>62</td>\n",
       "    </tr>\n",
       "    <tr>\n",
       "      <th>2</th>\n",
       "      <td>0</td>\n",
       "      <td>1</td>\n",
       "      <td>1</td>\n",
       "      <td>1</td>\n",
       "      <td>48</td>\n",
       "      <td>0</td>\n",
       "      <td>64</td>\n",
       "      <td>1</td>\n",
       "      <td>6</td>\n",
       "      <td>41178</td>\n",
       "      <td>...</td>\n",
       "      <td>0</td>\n",
       "      <td>103</td>\n",
       "      <td>10</td>\n",
       "      <td>24</td>\n",
       "      <td>9</td>\n",
       "      <td>109</td>\n",
       "      <td>94</td>\n",
       "      <td>268</td>\n",
       "      <td>109</td>\n",
       "      <td>50</td>\n",
       "    </tr>\n",
       "    <tr>\n",
       "      <th>3</th>\n",
       "      <td>0</td>\n",
       "      <td>1</td>\n",
       "      <td>1</td>\n",
       "      <td>1</td>\n",
       "      <td>31</td>\n",
       "      <td>0</td>\n",
       "      <td>47</td>\n",
       "      <td>1</td>\n",
       "      <td>6</td>\n",
       "      <td>41178</td>\n",
       "      <td>...</td>\n",
       "      <td>0</td>\n",
       "      <td>0</td>\n",
       "      <td>54</td>\n",
       "      <td>118</td>\n",
       "      <td>25</td>\n",
       "      <td>90</td>\n",
       "      <td>96</td>\n",
       "      <td>246</td>\n",
       "      <td>90</td>\n",
       "      <td>62</td>\n",
       "    </tr>\n",
       "    <tr>\n",
       "      <th>4</th>\n",
       "      <td>0</td>\n",
       "      <td>1</td>\n",
       "      <td>1</td>\n",
       "      <td>1</td>\n",
       "      <td>21</td>\n",
       "      <td>0</td>\n",
       "      <td>36</td>\n",
       "      <td>1</td>\n",
       "      <td>4</td>\n",
       "      <td>41178</td>\n",
       "      <td>...</td>\n",
       "      <td>0</td>\n",
       "      <td>83</td>\n",
       "      <td>87</td>\n",
       "      <td>151</td>\n",
       "      <td>12</td>\n",
       "      <td>231</td>\n",
       "      <td>222</td>\n",
       "      <td>121</td>\n",
       "      <td>231</td>\n",
       "      <td>11</td>\n",
       "    </tr>\n",
       "  </tbody>\n",
       "</table>\n",
       "<p>5 rows × 37 columns</p>\n",
       "</div>"
      ],
      "text/plain": [
       "   APP_NB  APP_NB_PAYS  APP_NB_TYPE  VOIE_DEPOT  COUNTRY  SOURCE_BEGIN_MONTH  \\\n",
       "0       0            1            1           0       86                   0   \n",
       "1       0            1            1           0       21                   0   \n",
       "2       0            1            1           1       48                   0   \n",
       "3       0            1            1           1       31                   0   \n",
       "4       0            1            1           1       21                   0   \n",
       "\n",
       "   FISRT_APP_COUNTRY  FISRT_APP_TYPE  LANGUAGE_OF_FILLING  FIRST_CLASSE  \\\n",
       "0                127               1                    6          4354   \n",
       "1                 36               1                    4         20022   \n",
       "2                 64               1                    6         41178   \n",
       "3                 47               1                    6         41178   \n",
       "4                 36               1                    4         41178   \n",
       "\n",
       "    ...     NB_BACKWARD_I  NB_BACKWARD_AUTRE  NB_BACKWARD_PL  NB_BACKWARD  \\\n",
       "0   ...                 0                  0               0            0   \n",
       "1   ...                 0                  0               0            0   \n",
       "2   ...                 0                103              10           24   \n",
       "3   ...                 0                  0              54          118   \n",
       "4   ...                 0                 83              87          151   \n",
       "\n",
       "   oecd_NB_ROOT_CLASSES  PRIORITY_MONTH  FILING_MONTH  PUBLICATION_MONTH  \\\n",
       "0                     7             175           163                 56   \n",
       "1                    12             221           233                108   \n",
       "2                     9             109            94                268   \n",
       "3                    25              90            96                246   \n",
       "4                    12             231           222                121   \n",
       "\n",
       "   BEGIN_MONTH  cited_n  \n",
       "0          175       62  \n",
       "1          221       62  \n",
       "2          109       50  \n",
       "3           90       62  \n",
       "4          231       11  \n",
       "\n",
       "[5 rows x 37 columns]"
      ]
     },
     "execution_count": 75,
     "metadata": {},
     "output_type": "execute_result"
    }
   ],
   "source": [
    "df1.head(5)"
   ]
  },
  {
   "cell_type": "code",
   "execution_count": 76,
   "metadata": {
    "collapsed": false,
    "scrolled": true
   },
   "outputs": [
    {
     "data": {
      "text/html": [
       "<div>\n",
       "<table border=\"1\" class=\"dataframe\">\n",
       "  <thead>\n",
       "    <tr style=\"text-align: right;\">\n",
       "      <th></th>\n",
       "      <th>APP_NB</th>\n",
       "      <th>APP_NB_PAYS</th>\n",
       "      <th>APP_NB_TYPE</th>\n",
       "      <th>VOIE_DEPOT</th>\n",
       "      <th>COUNTRY</th>\n",
       "      <th>SOURCE_BEGIN_MONTH</th>\n",
       "      <th>FISRT_APP_COUNTRY</th>\n",
       "      <th>FISRT_APP_TYPE</th>\n",
       "      <th>LANGUAGE_OF_FILLING</th>\n",
       "      <th>FIRST_CLASSE</th>\n",
       "      <th>...</th>\n",
       "      <th>NB_BACKWARD_I</th>\n",
       "      <th>NB_BACKWARD_AUTRE</th>\n",
       "      <th>NB_BACKWARD_PL</th>\n",
       "      <th>NB_BACKWARD</th>\n",
       "      <th>oecd_NB_ROOT_CLASSES</th>\n",
       "      <th>PRIORITY_MONTH</th>\n",
       "      <th>FILING_MONTH</th>\n",
       "      <th>PUBLICATION_MONTH</th>\n",
       "      <th>BEGIN_MONTH</th>\n",
       "      <th>cited_n</th>\n",
       "    </tr>\n",
       "  </thead>\n",
       "  <tbody>\n",
       "    <tr>\n",
       "      <th>259431</th>\n",
       "      <td>0</td>\n",
       "      <td>1</td>\n",
       "      <td>1</td>\n",
       "      <td>1</td>\n",
       "      <td>94</td>\n",
       "      <td>1</td>\n",
       "      <td>24</td>\n",
       "      <td>1</td>\n",
       "      <td>9</td>\n",
       "      <td>2619</td>\n",
       "      <td>...</td>\n",
       "      <td>0</td>\n",
       "      <td>92</td>\n",
       "      <td>109</td>\n",
       "      <td>173</td>\n",
       "      <td>12</td>\n",
       "      <td>252</td>\n",
       "      <td>255</td>\n",
       "      <td>157</td>\n",
       "      <td>243</td>\n",
       "      <td>43</td>\n",
       "    </tr>\n",
       "    <tr>\n",
       "      <th>259432</th>\n",
       "      <td>0</td>\n",
       "      <td>1</td>\n",
       "      <td>1</td>\n",
       "      <td>0</td>\n",
       "      <td>86</td>\n",
       "      <td>0</td>\n",
       "      <td>127</td>\n",
       "      <td>1</td>\n",
       "      <td>6</td>\n",
       "      <td>21802</td>\n",
       "      <td>...</td>\n",
       "      <td>0</td>\n",
       "      <td>0</td>\n",
       "      <td>0</td>\n",
       "      <td>0</td>\n",
       "      <td>3</td>\n",
       "      <td>178</td>\n",
       "      <td>188</td>\n",
       "      <td>59</td>\n",
       "      <td>178</td>\n",
       "      <td>62</td>\n",
       "    </tr>\n",
       "    <tr>\n",
       "      <th>259433</th>\n",
       "      <td>0</td>\n",
       "      <td>1</td>\n",
       "      <td>1</td>\n",
       "      <td>1</td>\n",
       "      <td>48</td>\n",
       "      <td>0</td>\n",
       "      <td>64</td>\n",
       "      <td>1</td>\n",
       "      <td>6</td>\n",
       "      <td>41178</td>\n",
       "      <td>...</td>\n",
       "      <td>0</td>\n",
       "      <td>39</td>\n",
       "      <td>43</td>\n",
       "      <td>129</td>\n",
       "      <td>7</td>\n",
       "      <td>198</td>\n",
       "      <td>209</td>\n",
       "      <td>106</td>\n",
       "      <td>198</td>\n",
       "      <td>62</td>\n",
       "    </tr>\n",
       "    <tr>\n",
       "      <th>259434</th>\n",
       "      <td>0</td>\n",
       "      <td>1</td>\n",
       "      <td>1</td>\n",
       "      <td>0</td>\n",
       "      <td>86</td>\n",
       "      <td>0</td>\n",
       "      <td>127</td>\n",
       "      <td>1</td>\n",
       "      <td>6</td>\n",
       "      <td>22273</td>\n",
       "      <td>...</td>\n",
       "      <td>0</td>\n",
       "      <td>0</td>\n",
       "      <td>0</td>\n",
       "      <td>0</td>\n",
       "      <td>7</td>\n",
       "      <td>99</td>\n",
       "      <td>105</td>\n",
       "      <td>40</td>\n",
       "      <td>99</td>\n",
       "      <td>62</td>\n",
       "    </tr>\n",
       "    <tr>\n",
       "      <th>259435</th>\n",
       "      <td>0</td>\n",
       "      <td>1</td>\n",
       "      <td>1</td>\n",
       "      <td>0</td>\n",
       "      <td>4</td>\n",
       "      <td>0</td>\n",
       "      <td>8</td>\n",
       "      <td>1</td>\n",
       "      <td>6</td>\n",
       "      <td>22273</td>\n",
       "      <td>...</td>\n",
       "      <td>0</td>\n",
       "      <td>0</td>\n",
       "      <td>0</td>\n",
       "      <td>0</td>\n",
       "      <td>13</td>\n",
       "      <td>96</td>\n",
       "      <td>80</td>\n",
       "      <td>252</td>\n",
       "      <td>96</td>\n",
       "      <td>62</td>\n",
       "    </tr>\n",
       "  </tbody>\n",
       "</table>\n",
       "<p>5 rows × 37 columns</p>\n",
       "</div>"
      ],
      "text/plain": [
       "        APP_NB  APP_NB_PAYS  APP_NB_TYPE  VOIE_DEPOT  COUNTRY  \\\n",
       "259431       0            1            1           1       94   \n",
       "259432       0            1            1           0       86   \n",
       "259433       0            1            1           1       48   \n",
       "259434       0            1            1           0       86   \n",
       "259435       0            1            1           0        4   \n",
       "\n",
       "        SOURCE_BEGIN_MONTH  FISRT_APP_COUNTRY  FISRT_APP_TYPE  \\\n",
       "259431                   1                 24               1   \n",
       "259432                   0                127               1   \n",
       "259433                   0                 64               1   \n",
       "259434                   0                127               1   \n",
       "259435                   0                  8               1   \n",
       "\n",
       "        LANGUAGE_OF_FILLING  FIRST_CLASSE   ...     NB_BACKWARD_I  \\\n",
       "259431                    9          2619   ...                 0   \n",
       "259432                    6         21802   ...                 0   \n",
       "259433                    6         41178   ...                 0   \n",
       "259434                    6         22273   ...                 0   \n",
       "259435                    6         22273   ...                 0   \n",
       "\n",
       "        NB_BACKWARD_AUTRE  NB_BACKWARD_PL  NB_BACKWARD  oecd_NB_ROOT_CLASSES  \\\n",
       "259431                 92             109          173                    12   \n",
       "259432                  0               0            0                     3   \n",
       "259433                 39              43          129                     7   \n",
       "259434                  0               0            0                     7   \n",
       "259435                  0               0            0                    13   \n",
       "\n",
       "        PRIORITY_MONTH  FILING_MONTH  PUBLICATION_MONTH  BEGIN_MONTH  cited_n  \n",
       "259431             252           255                157          243       43  \n",
       "259432             178           188                 59          178       62  \n",
       "259433             198           209                106          198       62  \n",
       "259434              99           105                 40           99       62  \n",
       "259435              96            80                252           96       62  \n",
       "\n",
       "[5 rows x 37 columns]"
      ]
     },
     "execution_count": 76,
     "metadata": {},
     "output_type": "execute_result"
    }
   ],
   "source": [
    "df2.head(5)"
   ]
  },
  {
   "cell_type": "code",
   "execution_count": null,
   "metadata": {
    "collapsed": true
   },
   "outputs": [],
   "source": []
  }
 ],
 "metadata": {
  "kernelspec": {
   "display_name": "Python 3",
   "language": "python",
   "name": "python3"
  },
  "language_info": {
   "codemirror_mode": {
    "name": "ipython",
    "version": 3
   },
   "file_extension": ".py",
   "mimetype": "text/x-python",
   "name": "python",
   "nbconvert_exporter": "python",
   "pygments_lexer": "ipython3",
   "version": "3.5.1"
  }
 },
 "nbformat": 4,
 "nbformat_minor": 0
}
